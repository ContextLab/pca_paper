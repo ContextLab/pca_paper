{
 "cells": [
  {
   "cell_type": "code",
   "execution_count": 1,
   "metadata": {},
   "outputs": [],
   "source": [
    "import os\n",
    "import glob as glob\n",
    "import timecorr as tc\n",
    "import hypertools as hyp\n",
    "import numpy as np\n",
    "import pandas as pd\n",
    "from scipy.io import loadmat\n",
    "from scipy.spatial.distance import pdist, cdist, squareform\n",
    "from sklearn.decomposition import PCA, IncrementalPCA\n",
    "import seaborn as sns\n",
    "from scipy.optimize import curve_fit\n",
    "from scipy.stats import spearmanr\n",
    "import statsmodels.api as sm \n",
    "import statsmodels\n",
    "import matplotlib.pyplot as plt\n",
    "%matplotlib inline  \n",
    "import timecorr as tc\n",
    "from timecorr.helpers import isfc, wisfc, mean_combine, corrmean_combine\n",
    "import supereeg as se"
   ]
  },
  {
   "cell_type": "code",
   "execution_count": 2,
   "metadata": {},
   "outputs": [],
   "source": [
    "def rbf(centers, widths, locs):\n",
    "    \"\"\"\n",
    "    Radial basis function\n",
    "    Parameters\n",
    "    ----------\n",
    "    centers : ndarray\n",
    "        rbf coordinates (one row per RBF)\n",
    "    widths : ndarray\n",
    "        RBF radii\n",
    "    locs : ndarray\n",
    "        locations to evaluate the RBFs (one row per location)\n",
    "        \n",
    "    Returns\n",
    "    ----------\n",
    "    results : ndarray\n",
    "        Matrix of RBF weights for each RBF (row), at each location (column)\n",
    "    \"\"\"    \n",
    "    weights = np.exp(np.divide(-cdist(locs, centers, metric='euclidean') ** 2, np.tile(np.array(widths, ndmin=2), [locs.shape[0], 1])))\n",
    "    return weights.T"
   ]
  },
  {
   "cell_type": "code",
   "execution_count": 3,
   "metadata": {},
   "outputs": [],
   "source": [
    "def largest_indices(ary, n):\n",
    "    \"\"\"Returns the n largest indices from a numpy array.\"\"\"\n",
    "    flat = ary.flatten()\n",
    "    indices = np.argpartition(flat, -n)[-n:]\n",
    "    indices = indices[np.argsort(-flat[indices])]\n",
    "    return np.unravel_index(indices, ary.shape)"
   ]
  },
  {
   "cell_type": "code",
   "execution_count": 4,
   "metadata": {},
   "outputs": [],
   "source": [
    "def reduce_list(x, model):\n",
    "    split = np.cumsum([len(xi) for xi in x])[:-1]\n",
    "    x_r = np.vsplit(model.fit_transform(np.vstack(x)), split)\n",
    "    if len(x) > 1:\n",
    "        return [xi for xi in x_r]\n",
    "    else:\n",
    "        return [x_r[0]]"
   ]
  },
  {
   "cell_type": "code",
   "execution_count": 5,
   "metadata": {},
   "outputs": [],
   "source": [
    "def regress(data, yvar, xvars):\n",
    "    Y = data[yvar]\n",
    "    X = data[xvars]\n",
    "    X['intercept'] = 1.\n",
    "    result = sm.OLS(Y, X).fit()\n",
    "    return result.params"
   ]
  },
  {
   "cell_type": "code",
   "execution_count": 6,
   "metadata": {},
   "outputs": [],
   "source": [
    "datadir = os.path.join(os.getenv('HOME'), 'Desktop', 'pca_env', 'pca_paper', 'pieman', 'data')\n"
   ]
  },
  {
   "cell_type": "code",
   "execution_count": 7,
   "metadata": {},
   "outputs": [],
   "source": [
    "figdir = '../figs'\n",
    "if not os.path.exists(figdir):\n",
    "    os.mkdir(figdir)"
   ]
  },
  {
   "cell_type": "code",
   "execution_count": 8,
   "metadata": {},
   "outputs": [],
   "source": [
    "nii_bo_dir = '../../data/niis'"
   ]
  },
  {
   "cell_type": "code",
   "execution_count": 9,
   "metadata": {},
   "outputs": [],
   "source": [
    "pca_nii_bo_dir = os.path.join(nii_bo_dir, 'pcas')\n",
    "if not os.path.exists(pca_nii_bo_dir):\n",
    "    os.makedirs(pca_nii_bo_dir)"
   ]
  },
  {
   "cell_type": "code",
   "execution_count": 10,
   "metadata": {},
   "outputs": [],
   "source": [
    "neurosynth_dir ='../figs/neurosynth_data/'\n",
    "if not os.path.exists(neurosynth_dir):\n",
    "    os.mkdir(neurosynth_dir)"
   ]
  },
  {
   "cell_type": "code",
   "execution_count": 11,
   "metadata": {},
   "outputs": [],
   "source": [
    "n_f_dir = os.path.join(neurosynth_dir, 'figs')\n",
    "if not os.path.exists(n_f_dir):\n",
    "    os.mkdir(n_f_dir)\n",
    "nii_dir = os.path.join(neurosynth_dir, 'niis')\n",
    "if not os.path.exists(nii_dir):\n",
    "    os.mkdir(nii_dir)\n",
    "txt_dir = os.path.join(neurosynth_dir, 'txts')\n",
    "if not os.path.exists(txt_dir):\n",
    "    os.mkdir(txt_dir)\n",
    "p_txt_dir = os.path.join(txt_dir, 'parsed_txts')\n",
    "if not os.path.exists(p_txt_dir):\n",
    "    os.mkdir(p_txt_dir)"
   ]
  },
  {
   "cell_type": "code",
   "execution_count": 12,
   "metadata": {},
   "outputs": [],
   "source": [
    "ddir = '../../data/'"
   ]
  },
  {
   "cell_type": "code",
   "execution_count": 13,
   "metadata": {},
   "outputs": [],
   "source": [
    "#figdir = '/Users/lucyowen/Desktop/timecorr_env/timecorr_paper/pieman/figs'"
   ]
  },
  {
   "cell_type": "code",
   "execution_count": 14,
   "metadata": {},
   "outputs": [],
   "source": [
    "#results_dir = os.path.join(os.getenv('HOME'), 'Desktop', 'timecorr_env', 'timecorr_paper', 'pieman', 'results')\n",
    "results_dir = os.path.join('../../data/', 'results')"
   ]
  },
  {
   "cell_type": "code",
   "execution_count": 15,
   "metadata": {},
   "outputs": [],
   "source": [
    "posterior = loadmat(os.path.join(ddir, 'pieman_posterior_K700.mat'))\n",
    "centers = posterior['posterior']['centers'][0][0][0][0][0]\n",
    "widths = np.array(list(posterior['posterior']['widths'][0][0][0][0][0][:, 0].T))"
   ]
  },
  {
   "cell_type": "code",
   "execution_count": 16,
   "metadata": {},
   "outputs": [],
   "source": [
    "template = se.helpers._gray(res=2)"
   ]
  },
  {
   "cell_type": "code",
   "execution_count": 17,
   "metadata": {},
   "outputs": [],
   "source": [
    "factors=700"
   ]
  },
  {
   "cell_type": "code",
   "execution_count": 18,
   "metadata": {},
   "outputs": [],
   "source": [
    "if factors == 100:\n",
    "    pieman_name = '../../data/pieman_ica100.mat'\n",
    "else:\n",
    "    pieman_name = '../../data/pieman_data.mat'\n",
    "\n",
    "pieman_conds = ['intact', 'paragraph', 'word', 'rest']"
   ]
  },
  {
   "cell_type": "code",
   "execution_count": 19,
   "metadata": {},
   "outputs": [],
   "source": [
    "pieman_data = loadmat(pieman_name)"
   ]
  },
  {
   "cell_type": "code",
   "execution_count": 20,
   "metadata": {},
   "outputs": [],
   "source": [
    "debug = False"
   ]
  },
  {
   "cell_type": "code",
   "execution_count": 21,
   "metadata": {},
   "outputs": [],
   "source": [
    "if debug:\n",
    "    data = []\n",
    "    conds = []\n",
    "    for c in pieman_conds:\n",
    "        next_data = list(map(lambda i: pieman_data[c][:, i][0][:30, :10], np.where(np.arange(pieman_data[c].shape[1]) != 3)[0]))\n",
    "        data.extend(next_data)\n",
    "        conds.extend([c]*len(next_data))\n",
    "    del pieman_data\n",
    "\n",
    "else:\n",
    "\n",
    "    data = []\n",
    "    conds = []\n",
    "    for c in pieman_conds:\n",
    "        if c == 'paragraph':\n",
    "            if factors == 700:\n",
    "                next_data = list(map(lambda i: pieman_data[c][:, i][0], np.where(np.arange(pieman_data[c].shape[1]) != 3)[0]))\n",
    "            else:\n",
    "                next_data = list(map(lambda i: pieman_data[c][:, i][0], np.where(np.arange(pieman_data[c].shape[1]) != 0)[0]))\n",
    "        else:\n",
    "            next_data = list(map(lambda i: pieman_data[c][:, i][0], np.arange(pieman_data[c].shape[1])))\n",
    "        data.extend(next_data)\n",
    "        conds.extend([c]*len(next_data))\n",
    "    del pieman_data"
   ]
  },
  {
   "cell_type": "code",
   "execution_count": 22,
   "metadata": {},
   "outputs": [],
   "source": [
    "data = np.array(data)\n",
    "conds = np.array(conds)"
   ]
  },
  {
   "cell_type": "markdown",
   "metadata": {},
   "source": [
    "## pieman pca decoding"
   ]
  },
  {
   "cell_type": "code",
   "execution_count": 23,
   "metadata": {},
   "outputs": [],
   "source": [
    "resultsdir = '/Users/lucyowen/Desktop/pca_env/pca_paper/pieman/results/pca_decode/PCA/ndims_100'"
   ]
  },
  {
   "cell_type": "code",
   "execution_count": 24,
   "metadata": {},
   "outputs": [],
   "source": [
    "conds =glob.glob(os.path.join(resultsdir, '*.csv'))"
   ]
  },
  {
   "cell_type": "code",
   "execution_count": 25,
   "metadata": {},
   "outputs": [
    {
     "data": {
      "text/plain": [
       "['/Users/lucyowen/Desktop/pca_env/pca_paper/pieman/results/pca_decode/PCA/ndims_100/intact.csv',\n",
       " '/Users/lucyowen/Desktop/pca_env/pca_paper/pieman/results/pca_decode/PCA/ndims_100/paragraph.csv',\n",
       " '/Users/lucyowen/Desktop/pca_env/pca_paper/pieman/results/pca_decode/PCA/ndims_100/rest.csv',\n",
       " '/Users/lucyowen/Desktop/pca_env/pca_paper/pieman/results/pca_decode/PCA/ndims_100/word.csv']"
      ]
     },
     "execution_count": 25,
     "metadata": {},
     "output_type": "execute_result"
    }
   ],
   "source": [
    "conds"
   ]
  },
  {
   "cell_type": "code",
   "execution_count": 26,
   "metadata": {},
   "outputs": [],
   "source": [
    "full_data = pd.DataFrame()\n",
    "for c in conds:\n",
    "    data = pd.read_csv(c)\n",
    "    data['condition'] = os.path.basename(os.path.splitext(c)[0])\n",
    "\n",
    "    if full_data.empty:\n",
    "        full_data = data\n",
    "    else:\n",
    "        full_data = full_data.append(data)"
   ]
  },
  {
   "cell_type": "code",
   "execution_count": 27,
   "metadata": {},
   "outputs": [
    {
     "data": {
      "text/html": [
       "<div>\n",
       "<style scoped>\n",
       "    .dataframe tbody tr th:only-of-type {\n",
       "        vertical-align: middle;\n",
       "    }\n",
       "\n",
       "    .dataframe tbody tr th {\n",
       "        vertical-align: top;\n",
       "    }\n",
       "\n",
       "    .dataframe thead th {\n",
       "        text-align: right;\n",
       "    }\n",
       "</style>\n",
       "<table border=\"1\" class=\"dataframe\">\n",
       "  <thead>\n",
       "    <tr style=\"text-align: right;\">\n",
       "      <th></th>\n",
       "      <th>Unnamed: 0</th>\n",
       "      <th>rank</th>\n",
       "      <th>accuracy</th>\n",
       "      <th>error</th>\n",
       "      <th>dims</th>\n",
       "      <th>folds</th>\n",
       "      <th>iteration</th>\n",
       "      <th>condition</th>\n",
       "    </tr>\n",
       "  </thead>\n",
       "  <tbody>\n",
       "    <tr>\n",
       "      <th>0</th>\n",
       "      <td>0</td>\n",
       "      <td>0.805733</td>\n",
       "      <td>0.003333</td>\n",
       "      <td>0.488089</td>\n",
       "      <td>1</td>\n",
       "      <td>0</td>\n",
       "      <td>0</td>\n",
       "      <td>intact</td>\n",
       "    </tr>\n",
       "    <tr>\n",
       "      <th>1</th>\n",
       "      <td>0</td>\n",
       "      <td>0.709222</td>\n",
       "      <td>0.013333</td>\n",
       "      <td>0.329000</td>\n",
       "      <td>2</td>\n",
       "      <td>0</td>\n",
       "      <td>0</td>\n",
       "      <td>intact</td>\n",
       "    </tr>\n",
       "    <tr>\n",
       "      <th>2</th>\n",
       "      <td>0</td>\n",
       "      <td>0.726200</td>\n",
       "      <td>0.013333</td>\n",
       "      <td>0.309211</td>\n",
       "      <td>3</td>\n",
       "      <td>0</td>\n",
       "      <td>0</td>\n",
       "      <td>intact</td>\n",
       "    </tr>\n",
       "    <tr>\n",
       "      <th>3</th>\n",
       "      <td>0</td>\n",
       "      <td>0.816556</td>\n",
       "      <td>0.040000</td>\n",
       "      <td>0.258333</td>\n",
       "      <td>4</td>\n",
       "      <td>0</td>\n",
       "      <td>0</td>\n",
       "      <td>intact</td>\n",
       "    </tr>\n",
       "    <tr>\n",
       "      <th>4</th>\n",
       "      <td>0</td>\n",
       "      <td>0.869389</td>\n",
       "      <td>0.066667</td>\n",
       "      <td>0.241333</td>\n",
       "      <td>5</td>\n",
       "      <td>0</td>\n",
       "      <td>0</td>\n",
       "      <td>intact</td>\n",
       "    </tr>\n",
       "  </tbody>\n",
       "</table>\n",
       "</div>"
      ],
      "text/plain": [
       "   Unnamed: 0      rank  accuracy     error  dims  folds  iteration condition\n",
       "0           0  0.805733  0.003333  0.488089     1      0          0    intact\n",
       "1           0  0.709222  0.013333  0.329000     2      0          0    intact\n",
       "2           0  0.726200  0.013333  0.309211     3      0          0    intact\n",
       "3           0  0.816556  0.040000  0.258333     4      0          0    intact\n",
       "4           0  0.869389  0.066667  0.241333     5      0          0    intact"
      ]
     },
     "execution_count": 27,
     "metadata": {},
     "output_type": "execute_result"
    }
   ],
   "source": [
    "full_data.head()"
   ]
  },
  {
   "cell_type": "code",
   "execution_count": 28,
   "metadata": {},
   "outputs": [
    {
     "data": {
      "text/html": [
       "<div>\n",
       "<style scoped>\n",
       "    .dataframe tbody tr th:only-of-type {\n",
       "        vertical-align: middle;\n",
       "    }\n",
       "\n",
       "    .dataframe tbody tr th {\n",
       "        vertical-align: top;\n",
       "    }\n",
       "\n",
       "    .dataframe thead th {\n",
       "        text-align: right;\n",
       "    }\n",
       "</style>\n",
       "<table border=\"1\" class=\"dataframe\">\n",
       "  <thead>\n",
       "    <tr style=\"text-align: right;\">\n",
       "      <th></th>\n",
       "      <th>Unnamed: 0</th>\n",
       "      <th>rank</th>\n",
       "      <th>accuracy</th>\n",
       "      <th>error</th>\n",
       "      <th>dims</th>\n",
       "      <th>folds</th>\n",
       "      <th>iteration</th>\n",
       "      <th>condition</th>\n",
       "    </tr>\n",
       "  </thead>\n",
       "  <tbody>\n",
       "    <tr>\n",
       "      <th>0</th>\n",
       "      <td>0</td>\n",
       "      <td>0.805733</td>\n",
       "      <td>0.003333</td>\n",
       "      <td>0.488089</td>\n",
       "      <td>1</td>\n",
       "      <td>0</td>\n",
       "      <td>0</td>\n",
       "      <td>intact</td>\n",
       "    </tr>\n",
       "    <tr>\n",
       "      <th>1</th>\n",
       "      <td>0</td>\n",
       "      <td>0.709222</td>\n",
       "      <td>0.013333</td>\n",
       "      <td>0.329000</td>\n",
       "      <td>2</td>\n",
       "      <td>0</td>\n",
       "      <td>0</td>\n",
       "      <td>intact</td>\n",
       "    </tr>\n",
       "    <tr>\n",
       "      <th>2</th>\n",
       "      <td>0</td>\n",
       "      <td>0.726200</td>\n",
       "      <td>0.013333</td>\n",
       "      <td>0.309211</td>\n",
       "      <td>3</td>\n",
       "      <td>0</td>\n",
       "      <td>0</td>\n",
       "      <td>intact</td>\n",
       "    </tr>\n",
       "    <tr>\n",
       "      <th>3</th>\n",
       "      <td>0</td>\n",
       "      <td>0.816556</td>\n",
       "      <td>0.040000</td>\n",
       "      <td>0.258333</td>\n",
       "      <td>4</td>\n",
       "      <td>0</td>\n",
       "      <td>0</td>\n",
       "      <td>intact</td>\n",
       "    </tr>\n",
       "    <tr>\n",
       "      <th>4</th>\n",
       "      <td>0</td>\n",
       "      <td>0.869389</td>\n",
       "      <td>0.066667</td>\n",
       "      <td>0.241333</td>\n",
       "      <td>5</td>\n",
       "      <td>0</td>\n",
       "      <td>0</td>\n",
       "      <td>intact</td>\n",
       "    </tr>\n",
       "  </tbody>\n",
       "</table>\n",
       "</div>"
      ],
      "text/plain": [
       "   Unnamed: 0      rank  accuracy     error  dims  folds  iteration condition\n",
       "0           0  0.805733  0.003333  0.488089     1      0          0    intact\n",
       "1           0  0.709222  0.013333  0.329000     2      0          0    intact\n",
       "2           0  0.726200  0.013333  0.309211     3      0          0    intact\n",
       "3           0  0.816556  0.040000  0.258333     4      0          0    intact\n",
       "4           0  0.869389  0.066667  0.241333     5      0          0    intact"
      ]
     },
     "execution_count": 28,
     "metadata": {},
     "output_type": "execute_result"
    }
   ],
   "source": [
    "full_data[full_data['condition']=='intact'].head()"
   ]
  },
  {
   "cell_type": "code",
   "execution_count": 29,
   "metadata": {},
   "outputs": [],
   "source": [
    "outfile = os.path.join(figdir, 'Accuracy_by_components.pdf')"
   ]
  },
  {
   "cell_type": "code",
   "execution_count": 30,
   "metadata": {},
   "outputs": [
    {
     "data": {
      "image/png": "[encoded data removed]",
      "text/plain": [
       "<Figure size 432x288 with 1 Axes>"
      ]
     },
     "metadata": {
      "needs_background": "light"
     },
     "output_type": "display_data"
    }
   ],
   "source": [
    "fig, ax = plt.subplots()\n",
    "sns.lineplot(x=\"dims\", y=\"accuracy\",\n",
    "             hue=\"condition\",\n",
    "             data=full_data, ax=ax, palette=\"cubehelix\", hue_order=['intact', 'paragraph', 'word', 'rest'])\n",
    "sns.despine(ax=ax, left=True)\n",
    "ax.set_title('Accuracy by components')\n",
    "ax.set_ylabel('Decoding accuracy',fontsize=24)\n",
    "ax.set_xlabel('Number of components',fontsize=24)\n",
    "ax.set_ylim(0, .25)\n",
    "ax.hlines(y=1/300, xmin=0, xmax=100, linewidth=2, color='r')\n",
    "#ax.legend(loc='center right', bbox_to_anchor=(1.6, 0.75), ncol=1)\n",
    "l = ax.legend(loc='center right', bbox_to_anchor=(1.75, 0.75), ncol=1,fontsize=24)\n",
    "for line in l.get_lines():\n",
    "    line.set_linewidth(4.0)\n",
    "fig.savefig(outfile, bbox_inches='tight')"
   ]
  },
  {
   "cell_type": "code",
   "execution_count": 32,
   "metadata": {},
   "outputs": [],
   "source": [
    "def func(x, a, b, c, d, g):\n",
    "\n",
    "    return (((a-d)/((1+((x/c)** b))**g)) + d )"
   ]
  },
  {
   "cell_type": "code",
   "execution_count": 33,
   "metadata": {},
   "outputs": [
    {
     "name": "stderr",
     "output_type": "stream",
     "text": [
      "/Users/lucyowen/Library/Python/3.6/lib/python/site-packages/ipykernel_launcher.py:5: FutureWarning: Method .as_matrix will be removed in a future version. Use .values instead.\n",
      "  \"\"\"\n",
      "/Users/lucyowen/Library/Python/3.6/lib/python/site-packages/ipykernel_launcher.py:16: FutureWarning: Method .as_matrix will be removed in a future version. Use .values instead.\n",
      "  app.launch_new_instance()\n",
      "/Users/lucyowen/Library/Python/3.6/lib/python/site-packages/ipykernel_launcher.py:17: FutureWarning: Method .as_matrix will be removed in a future version. Use .values instead.\n",
      "/Users/lucyowen/Library/Python/3.6/lib/python/site-packages/ipykernel_launcher.py:18: FutureWarning: Method .as_matrix will be removed in a future version. Use .values instead.\n"
     ]
    }
   ],
   "source": [
    "hill = []\n",
    "maxs = []\n",
    "spearmans = []\n",
    "\n",
    "ydata = full_data[full_data['condition']=='intact'].groupby('dims')['accuracy'].mean().as_matrix()\n",
    "xdata = np.array(full_data[full_data['condition']=='intact'].groupby('dims')['accuracy'].mean().index)\n",
    "\n",
    "popt, pcov = curve_fit(func, xdata, ydata)\n",
    "hill.append(popt[1])\n",
    "\n",
    "max_i = ydata.max()\n",
    "maxs.append(max_i)\n",
    "\n",
    "max_loc = np.where(ydata==max_i)[0][0]\n",
    "\n",
    "max_p = full_data[full_data['condition']=='paragraph'].groupby('dims')['accuracy'].mean().as_matrix()[max_loc]\n",
    "max_w = full_data[full_data['condition']=='word'].groupby('dims')['accuracy'].mean().as_matrix()[max_loc]\n",
    "max_r = full_data[full_data['condition']=='rest'].groupby('dims')['accuracy'].mean().as_matrix()[max_loc]\n",
    "\n",
    "\n",
    "spearmans.append(spearmanr([4,3,2,1],[max_i,max_p,max_w,max_r])[0])\n"
   ]
  },
  {
   "cell_type": "code",
   "execution_count": 45,
   "metadata": {},
   "outputs": [
    {
     "data": {
      "text/plain": [
       "1.8082404289275942"
      ]
     },
     "execution_count": 45,
     "metadata": {},
     "output_type": "execute_result"
    }
   ],
   "source": [
    "popt[1]"
   ]
  },
  {
   "cell_type": "code",
   "execution_count": null,
   "metadata": {},
   "outputs": [],
   "source": [
    "\n",
    "slope_loc = np.where(ydata==max_i)[0][0]"
   ]
  },
  {
   "cell_type": "code",
   "execution_count": 216,
   "metadata": {},
   "outputs": [
    {
     "data": {
      "text/plain": [
       "7.7946266887653755"
      ]
     },
     "execution_count": 216,
     "metadata": {},
     "output_type": "execute_result"
    }
   ],
   "source": [
    "popt[2]"
   ]
  },
  {
   "cell_type": "code",
   "execution_count": 393,
   "metadata": {},
   "outputs": [
    {
     "data": {
      "image/png": "[encoded data removed]",
      "text/plain": [
       "<Figure size 432x288 with 1 Axes>"
      ]
     },
     "metadata": {
      "needs_background": "light"
     },
     "output_type": "display_data"
    }
   ],
   "source": [
    "full_data[full_data['condition']=='intact'].groupby('dims')['accuracy'].mean().plot()\n",
    "plt.plot(xdata, func(xdata, *popt), 'r-')\n",
    "plt.axhline(y=popt[3], color='g', linestyle='-')\n",
    "plt.axvline(x=popt[2], color='g', linestyle='-')\n",
    "#plt.plot((0, 0), (20, 20*popt[1]), linewidth=4, color='r')\n",
    "#plt.line(x=popt[1], y =20, color='g', linestyle='-')\n",
    "#plt.axvline(x=popt[0], color='g', linestyle='-')\n",
    "plt.show()"
   ]
  },
  {
   "cell_type": "code",
   "execution_count": 472,
   "metadata": {},
   "outputs": [
    {
     "data": {
      "text/plain": [
       "<mpl_toolkits.mplot3d.art3d.Path3DCollection at 0x1304c74e0>"
      ]
     },
     "execution_count": 472,
     "metadata": {},
     "output_type": "execute_result"
    },
    {
     "data": {
      "image/png": "[encoded data removed]",
      "text/plain": [
       "<Figure size 432x288 with 1 Axes>"
      ]
     },
     "metadata": {
      "needs_background": "light"
     },
     "output_type": "display_data"
    }
   ],
   "source": [
    "fig= plt.figure()\n",
    "ax= fig.add_subplot(111, projection= '3d')\n",
    "ax.scatter(hill,maxs,spearmans)"
   ]
  },
  {
   "cell_type": "code",
   "execution_count": 47,
   "metadata": {},
   "outputs": [],
   "source": [
    "hill_all = np.zeros((4, 1, 4))\n",
    "maxs_all = np.zeros((4, 1, 4))\n"
   ]
  },
  {
   "cell_type": "code",
   "execution_count": 52,
   "metadata": {},
   "outputs": [],
   "source": [
    "max_loc = np.where(func(xdata, *popt)==popt[2])"
   ]
  },
  {
   "cell_type": "code",
   "execution_count": 65,
   "metadata": {},
   "outputs": [
    {
     "data": {
      "text/plain": [
       "array([0.00093837, 0.01116257, 0.02462945, 0.03941026, 0.05415214,\n",
       "       0.06804078, 0.08067358, 0.09191867, 0.10180123, 0.11042587,\n",
       "       0.1179292 , 0.12445331, 0.13013236, 0.13508681, 0.1394217 ,\n",
       "       0.14322715, 0.14657972, 0.14954411, 0.15217491, 0.1545181 ,\n",
       "       0.15661255, 0.15849107, 0.16018151, 0.16170754, 0.16308935,\n",
       "       0.16434423, 0.165487  , 0.16653045, 0.16748563, 0.16836212,\n",
       "       0.16916826, 0.16991134, 0.17059773, 0.17123303, 0.17182216,\n",
       "       0.1723695 , 0.17287889, 0.17335376, 0.17379717, 0.17421184,\n",
       "       0.1746002 , 0.17496445, 0.17530653, 0.17562823, 0.17593114,\n",
       "       0.17621669, 0.17648621, 0.17674086, 0.17698175, 0.17720983,\n",
       "       0.17742602, 0.17763114, 0.17782592, 0.17801107, 0.1781872 ,\n",
       "       0.17835491, 0.17851472, 0.17866713, 0.17881259, 0.17895152,\n",
       "       0.17908432, 0.17921133, 0.1793329 , 0.17944934, 0.17956093,\n",
       "       0.17966794, 0.17977062, 0.17986921, 0.17996392, 0.18005495,\n",
       "       0.1801425 , 0.18022674, 0.18030784, 0.18038595, 0.18046123,\n",
       "       0.18053381, 0.18060381, 0.18067137, 0.18073659, 0.18079958,\n",
       "       0.18086045, 0.18091928, 0.18097618, 0.18103122, 0.18108449,\n",
       "       0.18113606, 0.18118601, 0.1812344 , 0.1812813 , 0.18132677,\n",
       "       0.18137087, 0.18141365, 0.18145517, 0.18149547, 0.18153461,\n",
       "       0.18157263, 0.18160957, 0.18164547, 0.18168038, 0.18171432])"
      ]
     },
     "execution_count": 65,
     "metadata": {},
     "output_type": "execute_result"
    }
   ],
   "source": [
    "func(xdata, *popt)"
   ]
  },
  {
   "cell_type": "code",
   "execution_count": null,
   "metadata": {},
   "outputs": [],
   "source": []
  },
  {
   "cell_type": "code",
   "execution_count": 64,
   "metadata": {},
   "outputs": [
    {
     "data": {
      "text/plain": [
       "0.20537331123462454"
      ]
     },
     "execution_count": 64,
     "metadata": {},
     "output_type": "execute_result"
    }
   ],
   "source": [
    "np.where(np.abs(xdata - popt[2]).min()"
   ]
  },
  {
   "cell_type": "code",
   "execution_count": 62,
   "metadata": {},
   "outputs": [
    {
     "data": {
      "text/plain": [
       "7.7946266887653755"
      ]
     },
     "execution_count": 62,
     "metadata": {},
     "output_type": "execute_result"
    }
   ],
   "source": [
    "popt[2]"
   ]
  },
  {
   "cell_type": "code",
   "execution_count": 190,
   "metadata": {},
   "outputs": [
    {
     "data": {
      "text/plain": [
       "(10, 2)"
      ]
     },
     "execution_count": 190,
     "metadata": {},
     "output_type": "execute_result"
    }
   ],
   "source": [
    "np.arange(20).reshape((10,2)).shape"
   ]
  },
  {
   "cell_type": "code",
   "execution_count": 222,
   "metadata": {},
   "outputs": [
    {
     "data": {
      "text/plain": [
       "0.18359337668465975"
      ]
     },
     "execution_count": 222,
     "metadata": {},
     "output_type": "execute_result"
    }
   ],
   "source": [
    "popt[3]"
   ]
  },
  {
   "cell_type": "code",
   "execution_count": 488,
   "metadata": {},
   "outputs": [],
   "source": [
    "import math\n",
    "p1 = single_point\n",
    "p2 = points\n",
    "#distance = math.sqrt( ((p1[0]-p2[0])**2)+((p1[1]-p2[1])**2) )\n",
    "find_m = (p1[1]-p2[1])/(p1[0]-p2[0])"
   ]
  },
  {
   "cell_type": "code",
   "execution_count": 489,
   "metadata": {},
   "outputs": [],
   "source": [
    "distances = []\n",
    "for p in points:\n",
    "    distance = math.sqrt( ((p[0]-p[0])**2)+((p1[1]-p[1])**2) )\n",
    "    distances.append(distance)"
   ]
  },
  {
   "cell_type": "code",
   "execution_count": 516,
   "metadata": {},
   "outputs": [
    {
     "data": {
      "text/plain": [
       "array([5.58053208, 0.20191601])"
      ]
     },
     "execution_count": 516,
     "metadata": {},
     "output_type": "execute_result"
    }
   ],
   "source": [
    "single_point"
   ]
  },
  {
   "cell_type": "code",
   "execution_count": 517,
   "metadata": {},
   "outputs": [],
   "source": [
    "ms = []\n",
    "for p in points:\n",
    "    distance = (p[1] - p1[1])/(p[0] - p1[0])\n",
    "    ms.append(distance)"
   ]
  },
  {
   "cell_type": "code",
   "execution_count": 518,
   "metadata": {},
   "outputs": [
    {
     "data": {
      "text/plain": [
       "[0.2597132849801427,\n",
       " 0.32674204146348074,\n",
       " 0.4454193711582851,\n",
       " 0.7153360842228681,\n",
       " 1.9193499155374605,\n",
       " -2.6231549891438823,\n",
       " -0.7669088033545001,\n",
       " -0.44585439306934127,\n",
       " -0.31302987486843675,\n",
       " -0.24059990171678053,\n",
       " -0.19509054391145783,\n",
       " -0.16389230048893075,\n",
       " -0.14119857569383323,\n",
       " -0.12396488518700263,\n",
       " -0.11044205808716143,\n",
       " -0.09955419040572853,\n",
       " -0.09060351950628537,\n",
       " -0.08311794372224586,\n",
       " -0.07676676688408457,\n",
       " -0.07131153775109604,\n",
       " -0.06657604473465088,\n",
       " -0.062427294009846854,\n",
       " -0.05876305329765481,\n",
       " -0.0555034632090907,\n",
       " -0.05258524781400476,\n",
       " -0.04995763184362623,\n",
       " -0.047579405656956744,\n",
       " -0.04541677877432768,\n",
       " -0.04344178566323908,\n",
       " -0.041631085012475706,\n",
       " -0.03996504379355417,\n",
       " -0.0384270303953592,\n",
       " -0.037002863261338816,\n",
       " -0.03568037657802358,\n",
       " -0.03444907504918357,\n",
       " -0.03329985716690891,\n",
       " -0.032224791650096694,\n",
       " -0.03121693551653101,\n",
       " -0.0302701850256354,\n",
       " -0.029379152773364458,\n",
       " -0.02853906574411874,\n",
       " -0.02774568027037476,\n",
       " -0.0269952107200684,\n",
       " -0.026284269396791158,\n",
       " -0.02560981565052334,\n",
       " -0.024969112594732872,\n",
       " -0.02435969013695054,\n",
       " -0.023779313274919837,\n",
       " -0.023225954804428486,\n",
       " -0.02269777173947125,\n",
       " -0.02219308486918837,\n",
       " -0.02171036097571695,\n",
       " -0.02124819731778372,\n",
       " -0.020805308050495793,\n",
       " -0.02038051230540999,\n",
       " -0.019972723698970626,\n",
       " -0.019580941073677482,\n",
       " -0.019204240306361586,\n",
       " -0.01884176704288206,\n",
       " -0.01849273023935002,\n",
       " -0.018156396407385644,\n",
       " -0.01783208447552606,\n",
       " -0.017519161191212065,\n",
       " -0.01721703699818662,\n",
       " -0.0169251623329594,\n",
       " -0.01664302429149264,\n",
       " -0.016370143623660273,\n",
       " -0.016106072018501963,\n",
       " -0.015850389647983635,\n",
       " -0.015602702941007473,\n",
       " -0.0153626425628885,\n",
       " -0.015129861578515964,\n",
       " -0.014904033780016155,\n",
       " -0.014684852161988463,\n",
       " -0.014472027529347672,\n",
       " -0.014265287224514794,\n",
       " -0.014064373962191828,\n",
       " -0.013869044761262132,\n",
       " -0.013679069964503831,\n",
       " -0.013494232337809896,\n",
       " -0.013314326241494272,\n",
       " -0.013139156867044297,\n",
       " -0.012968539533369322,\n",
       " -0.01280229903720553,\n",
       " -0.012640269052877656,\n",
       " -0.012482291577098131,\n",
       " -0.0123282164149108,\n",
       " -0.012177900703266057,\n",
       " -0.01203120846905291,\n",
       " -0.011888010218715774,\n",
       " -0.011748182556854146,\n",
       " -0.011611607831445365,\n",
       " -0.011478173803547662,\n",
       " -0.011347773339535523,\n",
       " -0.011220304124094515,\n",
       " -0.011095668392360356,\n",
       " -0.010973772679729,\n",
       " -0.010854527587992656,\n",
       " -0.0107378475665724,\n",
       " -0.010623650707722695]"
      ]
     },
     "execution_count": 518,
     "metadata": {},
     "output_type": "execute_result"
    }
   ],
   "source": [
    "ms"
   ]
  },
  {
   "cell_type": "code",
   "execution_count": 491,
   "metadata": {},
   "outputs": [
    {
     "data": {
      "text/plain": [
       "(array([99]),)"
      ]
     },
     "execution_count": 491,
     "metadata": {},
     "output_type": "execute_result"
    }
   ],
   "source": [
    "np.where(np.array((distances)) == np.array((distances)).min())"
   ]
  },
  {
   "cell_type": "code",
   "execution_count": 434,
   "metadata": {},
   "outputs": [
    {
     "data": {
      "text/plain": [
       "0.15646665599104018"
      ]
     },
     "execution_count": 434,
     "metadata": {},
     "output_type": "execute_result"
    }
   ],
   "source": [
    "distance"
   ]
  },
  {
   "cell_type": "code",
   "execution_count": 504,
   "metadata": {},
   "outputs": [],
   "source": [
    "\n",
    "\n",
    "def euclid_dist(t1, t2):\n",
    "    return np.sqrt(np.sum((t1-t2)**2,axis=1))  \n",
    "\n",
    "import numpy as np\n",
    "single_point = np.array((popt[2], popt[3]))\n",
    "points = np.vstack((np.atleast_2d(xdata), np.atleast_2d(func(xdata, *popt)))).T  \n",
    "distance = euclid_dist(single_point,points)"
   ]
  },
  {
   "cell_type": "code",
   "execution_count": 505,
   "metadata": {},
   "outputs": [
    {
     "data": {
      "text/plain": [
       "array([5.58053208, 0.20191601])"
      ]
     },
     "execution_count": 505,
     "metadata": {},
     "output_type": "execute_result"
    }
   ],
   "source": [
    "single_point "
   ]
  },
  {
   "cell_type": "code",
   "execution_count": 506,
   "metadata": {},
   "outputs": [],
   "source": [
    "b = 1.2 + 5.5"
   ]
  },
  {
   "cell_type": "code",
   "execution_count": 507,
   "metadata": {},
   "outputs": [
    {
     "data": {
      "text/plain": [
       "6.7"
      ]
     },
     "execution_count": 507,
     "metadata": {},
     "output_type": "execute_result"
    }
   ],
   "source": [
    "b"
   ]
  },
  {
   "cell_type": "code",
   "execution_count": 508,
   "metadata": {},
   "outputs": [],
   "source": [
    "x = np.linspace(-5,25,100)\n",
    "y = -1*x+b"
   ]
  },
  {
   "cell_type": "code",
   "execution_count": 509,
   "metadata": {},
   "outputs": [
    {
     "data": {
      "text/plain": [
       "array([[1.00000000e+00, 1.22909712e-02],\n",
       "       [2.00000000e+00, 3.20056430e-02],\n",
       "       [3.00000000e+00, 5.24970275e-02],\n",
       "       [4.00000000e+00, 7.13043735e-02],\n",
       "       [5.00000000e+00, 8.76717984e-02],\n",
       "       [6.00000000e+00, 1.01586651e-01],\n",
       "       [7.00000000e+00, 1.13313565e-01],\n",
       "       [8.00000000e+00, 1.23185607e-01],\n",
       "       [9.00000000e+00, 1.31520392e-01],\n",
       "       [1.00000000e+01, 1.38592460e-01],\n",
       "       [1.10000000e+01, 1.44629062e-01],\n",
       "       [1.20000000e+01, 1.49814641e-01],\n",
       "       [1.30000000e+01, 1.54297704e-01],\n",
       "       [1.40000000e+01, 1.58197632e-01],\n",
       "       [1.50000000e+01, 1.61610583e-01],\n",
       "       [1.60000000e+01, 1.64614313e-01],\n",
       "       [1.70000000e+01, 1.67272022e-01],\n",
       "       [1.80000000e+01, 1.69635371e-01],\n",
       "       [1.90000000e+01, 1.71746841e-01],\n",
       "       [2.00000000e+01, 1.73641575e-01],\n",
       "       [2.10000000e+01, 1.75348820e-01],\n",
       "       [2.20000000e+01, 1.76893055e-01],\n",
       "       [2.30000000e+01, 1.78294884e-01],\n",
       "       [2.40000000e+01, 1.79571746e-01],\n",
       "       [2.50000000e+01, 1.80738473e-01],\n",
       "       [2.60000000e+01, 1.81807745e-01],\n",
       "       [2.70000000e+01, 1.82790453e-01],\n",
       "       [2.80000000e+01, 1.83695991e-01],\n",
       "       [2.90000000e+01, 1.84532500e-01],\n",
       "       [3.00000000e+01, 1.85307061e-01],\n",
       "       [3.10000000e+01, 1.86025857e-01],\n",
       "       [3.20000000e+01, 1.86694309e-01],\n",
       "       [3.30000000e+01, 1.87317184e-01],\n",
       "       [3.40000000e+01, 1.87898688e-01],\n",
       "       [3.50000000e+01, 1.88442548e-01],\n",
       "       [3.60000000e+01, 1.88952069e-01],\n",
       "       [3.70000000e+01, 1.89430198e-01],\n",
       "       [3.80000000e+01, 1.89879566e-01],\n",
       "       [3.90000000e+01, 1.90302529e-01],\n",
       "       [4.00000000e+01, 1.90701200e-01],\n",
       "       [4.10000000e+01, 1.91077482e-01],\n",
       "       [4.20000000e+01, 1.91433093e-01],\n",
       "       [4.30000000e+01, 1.91769584e-01],\n",
       "       [4.40000000e+01, 1.92088361e-01],\n",
       "       [4.50000000e+01, 1.92390699e-01],\n",
       "       [4.60000000e+01, 1.92677760e-01],\n",
       "       [4.70000000e+01, 1.92950602e-01],\n",
       "       [4.80000000e+01, 1.93210189e-01],\n",
       "       [4.90000000e+01, 1.93457406e-01],\n",
       "       [5.00000000e+01, 1.93693062e-01],\n",
       "       [5.10000000e+01, 1.93917900e-01],\n",
       "       [5.20000000e+01, 1.94132601e-01],\n",
       "       [5.30000000e+01, 1.94337795e-01],\n",
       "       [5.40000000e+01, 1.94534060e-01],\n",
       "       [5.50000000e+01, 1.94721932e-01],\n",
       "       [5.60000000e+01, 1.94901904e-01],\n",
       "       [5.70000000e+01, 1.95074434e-01],\n",
       "       [5.80000000e+01, 1.95239947e-01],\n",
       "       [5.90000000e+01, 1.95398836e-01],\n",
       "       [6.00000000e+01, 1.95551466e-01],\n",
       "       [6.10000000e+01, 1.95698178e-01],\n",
       "       [6.20000000e+01, 1.95839288e-01],\n",
       "       [6.30000000e+01, 1.95975092e-01],\n",
       "       [6.40000000e+01, 1.96105865e-01],\n",
       "       [6.50000000e+01, 1.96231866e-01],\n",
       "       [6.60000000e+01, 1.96353334e-01],\n",
       "       [6.70000000e+01, 1.96470495e-01],\n",
       "       [6.80000000e+01, 1.96583560e-01],\n",
       "       [6.90000000e+01, 1.96692728e-01],\n",
       "       [7.00000000e+01, 1.96798184e-01],\n",
       "       [7.10000000e+01, 1.96900104e-01],\n",
       "       [7.20000000e+01, 1.96998650e-01],\n",
       "       [7.30000000e+01, 1.97093979e-01],\n",
       "       [7.40000000e+01, 1.97186234e-01],\n",
       "       [7.50000000e+01, 1.97275555e-01],\n",
       "       [7.60000000e+01, 1.97362070e-01],\n",
       "       [7.70000000e+01, 1.97445901e-01],\n",
       "       [7.80000000e+01, 1.97527164e-01],\n",
       "       [7.90000000e+01, 1.97605967e-01],\n",
       "       [8.00000000e+01, 1.97682415e-01],\n",
       "       [8.10000000e+01, 1.97756605e-01],\n",
       "       [8.20000000e+01, 1.97828629e-01],\n",
       "       [8.30000000e+01, 1.97898575e-01],\n",
       "       [8.40000000e+01, 1.97966527e-01],\n",
       "       [8.50000000e+01, 1.98032563e-01],\n",
       "       [8.60000000e+01, 1.98096759e-01],\n",
       "       [8.70000000e+01, 1.98159185e-01],\n",
       "       [8.80000000e+01, 1.98219910e-01],\n",
       "       [8.90000000e+01, 1.98278997e-01],\n",
       "       [9.00000000e+01, 1.98336509e-01],\n",
       "       [9.10000000e+01, 1.98392503e-01],\n",
       "       [9.20000000e+01, 1.98447035e-01],\n",
       "       [9.30000000e+01, 1.98500159e-01],\n",
       "       [9.40000000e+01, 1.98551925e-01],\n",
       "       [9.50000000e+01, 1.98602381e-01],\n",
       "       [9.60000000e+01, 1.98651574e-01],\n",
       "       [9.70000000e+01, 1.98699546e-01],\n",
       "       [9.80000000e+01, 1.98746342e-01],\n",
       "       [9.90000000e+01, 1.98792000e-01],\n",
       "       [1.00000000e+02, 1.98836559e-01]])"
      ]
     },
     "execution_count": 509,
     "metadata": {},
     "output_type": "execute_result"
    }
   ],
   "source": [
    "points"
   ]
  },
  {
   "cell_type": "code",
   "execution_count": 510,
   "metadata": {},
   "outputs": [
    {
     "data": {
      "text/plain": [
       "array([5.58053208, 0.20191601])"
      ]
     },
     "execution_count": 510,
     "metadata": {},
     "output_type": "execute_result"
    }
   ],
   "source": [
    "single_point"
   ]
  },
  {
   "cell_type": "code",
   "execution_count": 511,
   "metadata": {
    "scrolled": true
   },
   "outputs": [
    {
     "data": {
      "text/plain": [
       "(array([5]),)"
      ]
     },
     "execution_count": 511,
     "metadata": {},
     "output_type": "execute_result"
    }
   ],
   "source": [
    "np.where(distance==distance.min())"
   ]
  },
  {
   "cell_type": "code",
   "execution_count": 512,
   "metadata": {},
   "outputs": [
    {
     "data": {
      "text/plain": [
       "array([[1.00000000e+00, 1.22909712e-02],\n",
       "       [2.00000000e+00, 3.20056430e-02],\n",
       "       [3.00000000e+00, 5.24970275e-02],\n",
       "       [4.00000000e+00, 7.13043735e-02],\n",
       "       [5.00000000e+00, 8.76717984e-02],\n",
       "       [6.00000000e+00, 1.01586651e-01],\n",
       "       [7.00000000e+00, 1.13313565e-01],\n",
       "       [8.00000000e+00, 1.23185607e-01],\n",
       "       [9.00000000e+00, 1.31520392e-01],\n",
       "       [1.00000000e+01, 1.38592460e-01],\n",
       "       [1.10000000e+01, 1.44629062e-01],\n",
       "       [1.20000000e+01, 1.49814641e-01],\n",
       "       [1.30000000e+01, 1.54297704e-01],\n",
       "       [1.40000000e+01, 1.58197632e-01],\n",
       "       [1.50000000e+01, 1.61610583e-01],\n",
       "       [1.60000000e+01, 1.64614313e-01],\n",
       "       [1.70000000e+01, 1.67272022e-01],\n",
       "       [1.80000000e+01, 1.69635371e-01],\n",
       "       [1.90000000e+01, 1.71746841e-01],\n",
       "       [2.00000000e+01, 1.73641575e-01],\n",
       "       [2.10000000e+01, 1.75348820e-01],\n",
       "       [2.20000000e+01, 1.76893055e-01],\n",
       "       [2.30000000e+01, 1.78294884e-01],\n",
       "       [2.40000000e+01, 1.79571746e-01],\n",
       "       [2.50000000e+01, 1.80738473e-01],\n",
       "       [2.60000000e+01, 1.81807745e-01],\n",
       "       [2.70000000e+01, 1.82790453e-01],\n",
       "       [2.80000000e+01, 1.83695991e-01],\n",
       "       [2.90000000e+01, 1.84532500e-01],\n",
       "       [3.00000000e+01, 1.85307061e-01],\n",
       "       [3.10000000e+01, 1.86025857e-01],\n",
       "       [3.20000000e+01, 1.86694309e-01],\n",
       "       [3.30000000e+01, 1.87317184e-01],\n",
       "       [3.40000000e+01, 1.87898688e-01],\n",
       "       [3.50000000e+01, 1.88442548e-01],\n",
       "       [3.60000000e+01, 1.88952069e-01],\n",
       "       [3.70000000e+01, 1.89430198e-01],\n",
       "       [3.80000000e+01, 1.89879566e-01],\n",
       "       [3.90000000e+01, 1.90302529e-01],\n",
       "       [4.00000000e+01, 1.90701200e-01],\n",
       "       [4.10000000e+01, 1.91077482e-01],\n",
       "       [4.20000000e+01, 1.91433093e-01],\n",
       "       [4.30000000e+01, 1.91769584e-01],\n",
       "       [4.40000000e+01, 1.92088361e-01],\n",
       "       [4.50000000e+01, 1.92390699e-01],\n",
       "       [4.60000000e+01, 1.92677760e-01],\n",
       "       [4.70000000e+01, 1.92950602e-01],\n",
       "       [4.80000000e+01, 1.93210189e-01],\n",
       "       [4.90000000e+01, 1.93457406e-01],\n",
       "       [5.00000000e+01, 1.93693062e-01],\n",
       "       [5.10000000e+01, 1.93917900e-01],\n",
       "       [5.20000000e+01, 1.94132601e-01],\n",
       "       [5.30000000e+01, 1.94337795e-01],\n",
       "       [5.40000000e+01, 1.94534060e-01],\n",
       "       [5.50000000e+01, 1.94721932e-01],\n",
       "       [5.60000000e+01, 1.94901904e-01],\n",
       "       [5.70000000e+01, 1.95074434e-01],\n",
       "       [5.80000000e+01, 1.95239947e-01],\n",
       "       [5.90000000e+01, 1.95398836e-01],\n",
       "       [6.00000000e+01, 1.95551466e-01],\n",
       "       [6.10000000e+01, 1.95698178e-01],\n",
       "       [6.20000000e+01, 1.95839288e-01],\n",
       "       [6.30000000e+01, 1.95975092e-01],\n",
       "       [6.40000000e+01, 1.96105865e-01],\n",
       "       [6.50000000e+01, 1.96231866e-01],\n",
       "       [6.60000000e+01, 1.96353334e-01],\n",
       "       [6.70000000e+01, 1.96470495e-01],\n",
       "       [6.80000000e+01, 1.96583560e-01],\n",
       "       [6.90000000e+01, 1.96692728e-01],\n",
       "       [7.00000000e+01, 1.96798184e-01],\n",
       "       [7.10000000e+01, 1.96900104e-01],\n",
       "       [7.20000000e+01, 1.96998650e-01],\n",
       "       [7.30000000e+01, 1.97093979e-01],\n",
       "       [7.40000000e+01, 1.97186234e-01],\n",
       "       [7.50000000e+01, 1.97275555e-01],\n",
       "       [7.60000000e+01, 1.97362070e-01],\n",
       "       [7.70000000e+01, 1.97445901e-01],\n",
       "       [7.80000000e+01, 1.97527164e-01],\n",
       "       [7.90000000e+01, 1.97605967e-01],\n",
       "       [8.00000000e+01, 1.97682415e-01],\n",
       "       [8.10000000e+01, 1.97756605e-01],\n",
       "       [8.20000000e+01, 1.97828629e-01],\n",
       "       [8.30000000e+01, 1.97898575e-01],\n",
       "       [8.40000000e+01, 1.97966527e-01],\n",
       "       [8.50000000e+01, 1.98032563e-01],\n",
       "       [8.60000000e+01, 1.98096759e-01],\n",
       "       [8.70000000e+01, 1.98159185e-01],\n",
       "       [8.80000000e+01, 1.98219910e-01],\n",
       "       [8.90000000e+01, 1.98278997e-01],\n",
       "       [9.00000000e+01, 1.98336509e-01],\n",
       "       [9.10000000e+01, 1.98392503e-01],\n",
       "       [9.20000000e+01, 1.98447035e-01],\n",
       "       [9.30000000e+01, 1.98500159e-01],\n",
       "       [9.40000000e+01, 1.98551925e-01],\n",
       "       [9.50000000e+01, 1.98602381e-01],\n",
       "       [9.60000000e+01, 1.98651574e-01],\n",
       "       [9.70000000e+01, 1.98699546e-01],\n",
       "       [9.80000000e+01, 1.98746342e-01],\n",
       "       [9.90000000e+01, 1.98792000e-01],\n",
       "       [1.00000000e+02, 1.98836559e-01]])"
      ]
     },
     "execution_count": 512,
     "metadata": {},
     "output_type": "execute_result"
    }
   ],
   "source": [
    "points"
   ]
  },
  {
   "cell_type": "code",
   "execution_count": 513,
   "metadata": {},
   "outputs": [
    {
     "data": {
      "text/plain": [
       "array([5.58053208, 0.20191601])"
      ]
     },
     "execution_count": 513,
     "metadata": {},
     "output_type": "execute_result"
    }
   ],
   "source": [
    "single_point "
   ]
  },
  {
   "cell_type": "code",
   "execution_count": 514,
   "metadata": {},
   "outputs": [
    {
     "data": {
      "text/plain": [
       "array([[5.58053208, 0.20191601]])"
      ]
     },
     "execution_count": 514,
     "metadata": {},
     "output_type": "execute_result"
    }
   ],
   "source": [
    "np.atleast_2d(single_point)"
   ]
  },
  {
   "cell_type": "code",
   "execution_count": 515,
   "metadata": {},
   "outputs": [
    {
     "data": {
      "text/plain": [
       "array([  1.,   2.,   3.,   4.,   5.,   6.,   7.,   8.,   9.,  10.,  11.,\n",
       "        12.,  13.,  14.,  15.,  16.,  17.,  18.,  19.,  20.,  21.,  22.,\n",
       "        23.,  24.,  25.,  26.,  27.,  28.,  29.,  30.,  31.,  32.,  33.,\n",
       "        34.,  35.,  36.,  37.,  38.,  39.,  40.,  41.,  42.,  43.,  44.,\n",
       "        45.,  46.,  47.,  48.,  49.,  50.,  51.,  52.,  53.,  54.,  55.,\n",
       "        56.,  57.,  58.,  59.,  60.,  61.,  62.,  63.,  64.,  65.,  66.,\n",
       "        67.,  68.,  69.,  70.,  71.,  72.,  73.,  74.,  75.,  76.,  77.,\n",
       "        78.,  79.,  80.,  81.,  82.,  83.,  84.,  85.,  86.,  87.,  88.,\n",
       "        89.,  90.,  91.,  92.,  93.,  94.,  95.,  96.,  97.,  98.,  99.,\n",
       "       100.])"
      ]
     },
     "execution_count": 515,
     "metadata": {},
     "output_type": "execute_result"
    }
   ],
   "source": [
    "points[:, 0]"
   ]
  },
  {
   "cell_type": "code",
   "execution_count": 459,
   "metadata": {},
   "outputs": [
    {
     "data": {
      "text/plain": [
       "array([ 0.        ,  0.25252525,  0.50505051,  0.75757576,  1.01010101,\n",
       "        1.26262626,  1.51515152,  1.76767677,  2.02020202,  2.27272727,\n",
       "        2.52525253,  2.77777778,  3.03030303,  3.28282828,  3.53535354,\n",
       "        3.78787879,  4.04040404,  4.29292929,  4.54545455,  4.7979798 ,\n",
       "        5.05050505,  5.3030303 ,  5.55555556,  5.80808081,  6.06060606,\n",
       "        6.31313131,  6.56565657,  6.81818182,  7.07070707,  7.32323232,\n",
       "        7.57575758,  7.82828283,  8.08080808,  8.33333333,  8.58585859,\n",
       "        8.83838384,  9.09090909,  9.34343434,  9.5959596 ,  9.84848485,\n",
       "       10.1010101 , 10.35353535, 10.60606061, 10.85858586, 11.11111111,\n",
       "       11.36363636, 11.61616162, 11.86868687, 12.12121212, 12.37373737,\n",
       "       12.62626263, 12.87878788, 13.13131313, 13.38383838, 13.63636364,\n",
       "       13.88888889, 14.14141414, 14.39393939, 14.64646465, 14.8989899 ,\n",
       "       15.15151515, 15.4040404 , 15.65656566, 15.90909091, 16.16161616,\n",
       "       16.41414141, 16.66666667, 16.91919192, 17.17171717, 17.42424242,\n",
       "       17.67676768, 17.92929293, 18.18181818, 18.43434343, 18.68686869,\n",
       "       18.93939394, 19.19191919, 19.44444444, 19.6969697 , 19.94949495,\n",
       "       20.2020202 , 20.45454545, 20.70707071, 20.95959596, 21.21212121,\n",
       "       21.46464646, 21.71717172, 21.96969697, 22.22222222, 22.47474747,\n",
       "       22.72727273, 22.97979798, 23.23232323, 23.48484848, 23.73737374,\n",
       "       23.98989899, 24.24242424, 24.49494949, 24.74747475, 25.        ])"
      ]
     },
     "execution_count": 459,
     "metadata": {},
     "output_type": "execute_result"
    }
   ],
   "source": [
    "np.linspace(0,25,100)"
   ]
  },
  {
   "cell_type": "code",
   "execution_count": 497,
   "metadata": {},
   "outputs": [],
   "source": [
    "x = np.linspace(popt[2],6,10)"
   ]
  },
  {
   "cell_type": "code",
   "execution_count": 498,
   "metadata": {},
   "outputs": [
    {
     "data": {
      "text/plain": [
       "array([ 0.20191601,  0.15530846,  0.10870091,  0.06209337,  0.01548582,\n",
       "       -0.03112173, -0.07772927, -0.12433682, -0.17094436, -0.21755191])"
      ]
     },
     "execution_count": 498,
     "metadata": {},
     "output_type": "execute_result"
    }
   ],
   "source": [
    "-1*x+(popt[3] + popt[2])"
   ]
  },
  {
   "cell_type": "code",
   "execution_count": 476,
   "metadata": {},
   "outputs": [],
   "source": [
    "x = np.linspace(popt[2],3,100)\n",
    "y = -1*x+(popt[3] + popt[2])"
   ]
  },
  {
   "cell_type": "code",
   "execution_count": 477,
   "metadata": {},
   "outputs": [
    {
     "data": {
      "text/plain": [
       "0.20191600579167152"
      ]
     },
     "execution_count": 477,
     "metadata": {},
     "output_type": "execute_result"
    }
   ],
   "source": [
    "popt[3]"
   ]
  },
  {
   "cell_type": "code",
   "execution_count": 478,
   "metadata": {},
   "outputs": [
    {
     "data": {
      "text/plain": [
       "5.580532084521052"
      ]
     },
     "execution_count": 478,
     "metadata": {},
     "output_type": "execute_result"
    }
   ],
   "source": [
    "popt[2]"
   ]
  },
  {
   "cell_type": "code",
   "execution_count": 521,
   "metadata": {},
   "outputs": [],
   "source": [
    "try_x = np.linspace(0,50,100)"
   ]
  },
  {
   "cell_type": "code",
   "execution_count": 528,
   "metadata": {},
   "outputs": [
    {
     "data": {
      "text/plain": [
       "array([ 47.08135792,  47.24129336,  47.39168222,  47.55636304,\n",
       "        47.75704418,  48.02336276,  48.40403493,  48.99332999,\n",
       "        50.01119002,  52.13307746,  58.93956494, -16.95993384,\n",
       "        35.11962   ,  40.09074934,  41.86854235,  42.7709327 ,\n",
       "        43.31128658,  43.66779057,  43.91851341,  44.10302037,\n",
       "        44.24348034,  44.35326333,  44.44089985,  44.51208014,\n",
       "        44.57073902,  44.61967963,  44.66094936,  44.69607583,\n",
       "        44.7262199 ,  44.75227794,  44.77495189,  44.79479832,\n",
       "        44.81226347,  44.82770869,  44.8414293 ,  44.85366859,\n",
       "        44.86462852,  44.8744779 ,  44.88335874,  44.89139117,\n",
       "        44.89867741,  44.90530485,  44.91134858,  44.91687338,\n",
       "        44.9219354 ,  44.92658346,  44.9308602 ,  44.93480298,\n",
       "        44.93844464,  44.94181413,  44.94493706,  44.94783613,\n",
       "        44.95053154,  44.9530413 ,  44.9553815 ,  44.95756654,\n",
       "        44.95960937,  44.96152164,  44.96331383,  44.96499543,\n",
       "        44.96657501,  44.96806037,  44.96945857,  44.97077604,\n",
       "        44.97201862,  44.97319169,  44.97430011,  44.97534837,\n",
       "        44.97634057,  44.97728047,  44.97817154,  44.97901697,\n",
       "        44.97981967,  44.98058238,  44.98130759,  44.9819976 ,\n",
       "        44.98265457,  44.98328049,  44.98387718,  44.98444637,\n",
       "        44.98498963,  44.98550846,  44.98600423,  44.98647822,\n",
       "        44.98693164,  44.98736559,  44.98778113,  44.98817924,\n",
       "        44.98856082,  44.98892675,  44.98927782,  44.98961478,\n",
       "        44.98993835,  44.99024919,  44.99054793,  44.99083515,\n",
       "        44.99111142,  44.99137725,  44.99163313,  44.99187953])"
      ]
     },
     "execution_count": 528,
     "metadata": {},
     "output_type": "execute_result"
    }
   ],
   "source": [
    "np.degrees(np.arctan((func(try_x, *popt) - .2) / (try_x- 5.5))) + 45"
   ]
  },
  {
   "cell_type": "code",
   "execution_count": null,
   "metadata": {},
   "outputs": [],
   "source": [
    "np.arctan2(y, x) * 180 / np.pi"
   ]
  },
  {
   "cell_type": "code",
   "execution_count": 530,
   "metadata": {},
   "outputs": [
    {
     "data": {
      "text/plain": [
       "0.17364157518627643"
      ]
     },
     "execution_count": 530,
     "metadata": {},
     "output_type": "execute_result"
    }
   ],
   "source": [
    "func(20, *popt)"
   ]
  },
  {
   "cell_type": "code",
   "execution_count": 535,
   "metadata": {},
   "outputs": [
    {
     "data": {
      "text/plain": [
       "[<matplotlib.lines.Line2D at 0x129c5ba20>]"
      ]
     },
     "execution_count": 535,
     "metadata": {},
     "output_type": "execute_result"
    },
    {
     "data": {
      "image/png": "[encoded data removed]",
      "text/plain": [
       "<Figure size 432x288 with 1 Axes>"
      ]
     },
     "metadata": {
      "needs_background": "light"
     },
     "output_type": "display_data"
    }
   ],
   "source": [
    "plt.plot(xdata, func(xdata, *popt), 'r-')\n",
    "plt.axhline(y=popt[3], color='g', linestyle='-')\n",
    "plt.axvline(x=popt[2], color='g', linestyle='-')\n",
    "#plt.axvline(x=12, color='g', linestyle='-')\n",
    "plt.plot([popt[2], 17], [popt[3], func(17, *popt)] , '-r', label='y=2x+1')"
   ]
  },
  {
   "cell_type": "code",
   "execution_count": 541,
   "metadata": {},
   "outputs": [
    {
     "data": {
      "text/plain": [
       "11.419520466214099"
      ]
     },
     "execution_count": 541,
     "metadata": {},
     "output_type": "execute_result"
    }
   ],
   "source": [
    "math.sqrt( ((popt[2]-17)**2)+((popt[3]-func(17, *popt))**2) )"
   ]
  },
  {
   "cell_type": "code",
   "execution_count": 542,
   "metadata": {},
   "outputs": [
    {
     "data": {
      "text/plain": [
       "1.4222304860779877"
      ]
     },
     "execution_count": 542,
     "metadata": {},
     "output_type": "execute_result"
    }
   ],
   "source": [
    "math.sqrt( ((popt[2]-7)**2)+((popt[3]-func(7, *popt))**2) )"
   ]
  },
  {
   "cell_type": "code",
   "execution_count": 291,
   "metadata": {},
   "outputs": [
    {
     "data": {
      "text/plain": [
       "<matplotlib.lines.Line2D at 0x125f2b278>"
      ]
     },
     "execution_count": 291,
     "metadata": {},
     "output_type": "execute_result"
    },
    {
     "data": {
      "image/png": "[encoded data removed]",
      "text/plain": [
       "<Figure size 432x288 with 1 Axes>"
      ]
     },
     "metadata": {
      "needs_background": "light"
     },
     "output_type": "display_data"
    }
   ],
   "source": [
    "plt.scatter(points[:, 0], points[:, 1])\n",
    "plt.plot(xdata, func(xdata, *popt), 'r-')\n",
    "plt.axhline(y=popt[3], color='g', linestyle='-')\n",
    "plt.axvline(x=popt[2], color='g', linestyle='-')"
   ]
  },
  {
   "cell_type": "code",
   "execution_count": 259,
   "metadata": {},
   "outputs": [],
   "source": [
    "\n",
    "a = np.random.normal(size=(10,2))\n",
    "b = np.random.normal(size=(1,2))\n",
    "\n",
    "dist = scipy.spatial.distance.cdist(np.atleast_2d(single_point),points)"
   ]
  },
  {
   "cell_type": "code",
   "execution_count": 262,
   "metadata": {},
   "outputs": [
    {
     "data": {
      "text/plain": [
       "array([13.20540087])"
      ]
     },
     "execution_count": 262,
     "metadata": {},
     "output_type": "execute_result"
    }
   ],
   "source": [
    "dist[:, 20]"
   ]
  },
  {
   "cell_type": "code",
   "execution_count": 232,
   "metadata": {},
   "outputs": [
    {
     "data": {
      "text/plain": [
       "array([[2.42624397],\n",
       "       [3.03139051],\n",
       "       [0.98840987],\n",
       "       [1.92504371],\n",
       "       [0.19104842],\n",
       "       [2.10250541],\n",
       "       [2.42241572],\n",
       "       [1.51301995],\n",
       "       [2.69666793],\n",
       "       [1.30488486]])"
      ]
     },
     "execution_count": 232,
     "metadata": {},
     "output_type": "execute_result"
    }
   ],
   "source": [
    "dist"
   ]
  },
  {
   "cell_type": "code",
   "execution_count": 224,
   "metadata": {},
   "outputs": [
    {
     "data": {
      "text/plain": [
       "[<matplotlib.lines.Line2D at 0x127f095f8>,\n",
       " <matplotlib.lines.Line2D at 0x127f09748>]"
      ]
     },
     "execution_count": 224,
     "metadata": {},
     "output_type": "execute_result"
    },
    {
     "data": {
      "image/png": "[encoded data removed]",
      "text/plain": [
       "<Figure size 432x288 with 1 Axes>"
      ]
     },
     "metadata": {
      "needs_background": "light"
     },
     "output_type": "display_data"
    }
   ],
   "source": [
    "plt.plot(distance)"
   ]
  },
  {
   "cell_type": "code",
   "execution_count": 217,
   "metadata": {},
   "outputs": [],
   "source": [
    "from scipy.spatial import distance"
   ]
  },
  {
   "cell_type": "code",
   "execution_count": 283,
   "metadata": {},
   "outputs": [
    {
     "ename": "ValueError",
     "evalue": "XA must be a 2-dimensional array.",
     "output_type": "error",
     "traceback": [
      "\u001b[0;31m---------------------------------------------------------------------------\u001b[0m",
      "\u001b[0;31mValueError\u001b[0m                                Traceback (most recent call last)",
      "\u001b[0;32m<ipython-input-283-b7e0302b96a3>\u001b[0m in \u001b[0;36m<module>\u001b[0;34m()\u001b[0m\n\u001b[0;32m----> 1\u001b[0;31m \u001b[0mdistance\u001b[0m\u001b[0;34m.\u001b[0m\u001b[0mcdist\u001b[0m\u001b[0;34m(\u001b[0m\u001b[0msingle_point\u001b[0m\u001b[0;34m,\u001b[0m \u001b[0mpoints\u001b[0m\u001b[0;34m,\u001b[0m \u001b[0;34m'euclidean'\u001b[0m\u001b[0;34m)\u001b[0m\u001b[0;34m\u001b[0m\u001b[0m\n\u001b[0m",
      "\u001b[0;32m/usr/local/lib/python3.6/site-packages/scipy/spatial/distance.py\u001b[0m in \u001b[0;36mcdist\u001b[0;34m(XA, XB, metric, *args, **kwargs)\u001b[0m\n\u001b[1;32m   2588\u001b[0m \u001b[0;34m\u001b[0m\u001b[0m\n\u001b[1;32m   2589\u001b[0m     \u001b[0;32mif\u001b[0m \u001b[0mlen\u001b[0m\u001b[0;34m(\u001b[0m\u001b[0ms\u001b[0m\u001b[0;34m)\u001b[0m \u001b[0;34m!=\u001b[0m \u001b[0;36m2\u001b[0m\u001b[0;34m:\u001b[0m\u001b[0;34m\u001b[0m\u001b[0m\n\u001b[0;32m-> 2590\u001b[0;31m         \u001b[0;32mraise\u001b[0m \u001b[0mValueError\u001b[0m\u001b[0;34m(\u001b[0m\u001b[0;34m'XA must be a 2-dimensional array.'\u001b[0m\u001b[0;34m)\u001b[0m\u001b[0;34m\u001b[0m\u001b[0m\n\u001b[0m\u001b[1;32m   2591\u001b[0m     \u001b[0;32mif\u001b[0m \u001b[0mlen\u001b[0m\u001b[0;34m(\u001b[0m\u001b[0msB\u001b[0m\u001b[0;34m)\u001b[0m \u001b[0;34m!=\u001b[0m \u001b[0;36m2\u001b[0m\u001b[0;34m:\u001b[0m\u001b[0;34m\u001b[0m\u001b[0m\n\u001b[1;32m   2592\u001b[0m         \u001b[0;32mraise\u001b[0m \u001b[0mValueError\u001b[0m\u001b[0;34m(\u001b[0m\u001b[0;34m'XB must be a 2-dimensional array.'\u001b[0m\u001b[0;34m)\u001b[0m\u001b[0;34m\u001b[0m\u001b[0m\n",
      "\u001b[0;31mValueError\u001b[0m: XA must be a 2-dimensional array."
     ]
    }
   ],
   "source": [
    "distance.cdist(single_point, points, 'euclidean')"
   ]
  },
  {
   "cell_type": "code",
   "execution_count": 214,
   "metadata": {},
   "outputs": [
    {
     "data": {
      "text/plain": [
       "(array([7]),)"
      ]
     },
     "execution_count": 214,
     "metadata": {},
     "output_type": "execute_result"
    }
   ],
   "source": [
    "np.where(distance==distance.min())"
   ]
  },
  {
   "cell_type": "code",
   "execution_count": 209,
   "metadata": {},
   "outputs": [
    {
     "data": {
      "text/plain": [
       "array([ 6.79708134,  5.79719163,  4.79726116,  3.79736494,  2.79762281,\n",
       "        1.79834295,  0.80126404,  0.22490542,  1.20814518,  2.20658671,\n",
       "        3.20604583,  4.20578913,  5.20564784,  6.20556289,  7.2055087 ,\n",
       "        8.2054726 ,  9.20544772, 10.20543011, 11.20541736, 12.20540794,\n",
       "       13.20540087, 14.20539549, 15.20539133, 16.20538809, 17.20538553,\n",
       "       18.20538349, 19.20538185, 20.20538052, 21.20537943, 22.20537853,\n",
       "       23.20537779, 24.20537718, 25.20537666, 26.20537623, 27.20537586,\n",
       "       28.20537554, 29.20537528, 30.20537505, 31.20537485, 32.20537468,\n",
       "       33.20537453, 34.2053744 , 35.20537429, 36.20537419, 37.2053741 ,\n",
       "       38.20537402, 39.20537396, 40.2053739 , 41.20537384, 42.20537379,\n",
       "       43.20537375, 44.20537371, 45.20537368, 46.20537365, 47.20537362,\n",
       "       48.2053736 , 49.20537357, 50.20537355, 51.20537353, 52.20537352,\n",
       "       53.2053735 , 54.20537349, 55.20537348, 56.20537346, 57.20537345,\n",
       "       58.20537344, 59.20537343, 60.20537343, 61.20537342, 62.20537341,\n",
       "       63.20537341, 64.2053734 , 65.20537339, 66.20537339, 67.20537338,\n",
       "       68.20537338, 69.20537338, 70.20537337, 71.20537337, 72.20537337,\n",
       "       73.20537336, 74.20537336, 75.20537336, 76.20537335, 77.20537335,\n",
       "       78.20537335, 79.20537335, 80.20537335, 81.20537334, 82.20537334,\n",
       "       83.20537334, 84.20537334, 85.20537334, 86.20537334, 87.20537334,\n",
       "       88.20537333, 89.20537333, 90.20537333, 91.20537333, 92.20537333])"
      ]
     },
     "execution_count": 209,
     "metadata": {},
     "output_type": "execute_result"
    }
   ],
   "source": [
    "distance"
   ]
  },
  {
   "cell_type": "code",
   "execution_count": 200,
   "metadata": {},
   "outputs": [
    {
     "data": {
      "text/plain": [
       "(10, 2)"
      ]
     },
     "execution_count": 200,
     "metadata": {},
     "output_type": "execute_result"
    }
   ],
   "source": [
    "points = np.arange(20).reshape((10,2))   \n",
    "points.shape"
   ]
  },
  {
   "cell_type": "code",
   "execution_count": 202,
   "metadata": {},
   "outputs": [
    {
     "data": {
      "text/plain": [
       "(2, 100)"
      ]
     },
     "execution_count": 202,
     "metadata": {},
     "output_type": "execute_result"
    }
   ],
   "source": [
    "np.vstack((np.atleast_2d(xdata), np.atleast_2d(func(xdata, *popt))))"
   ]
  },
  {
   "cell_type": "code",
   "execution_count": 282,
   "metadata": {},
   "outputs": [
    {
     "ename": "TypeError",
     "evalue": "unsupported operand type(s) for -: 'tuple' and 'tuple'",
     "output_type": "error",
     "traceback": [
      "\u001b[0;31m---------------------------------------------------------------------------\u001b[0m",
      "\u001b[0;31mTypeError\u001b[0m                                 Traceback (most recent call last)",
      "\u001b[0;32m<ipython-input-282-b88c9219c8dc>\u001b[0m in \u001b[0;36m<module>\u001b[0;34m()\u001b[0m\n\u001b[1;32m      3\u001b[0m \u001b[0mb\u001b[0m \u001b[0;34m=\u001b[0m \u001b[0;34m(\u001b[0m\u001b[0mxdata\u001b[0m\u001b[0;34m,\u001b[0m \u001b[0mfunc\u001b[0m\u001b[0;34m(\u001b[0m\u001b[0mxdata\u001b[0m\u001b[0;34m,\u001b[0m \u001b[0;34m*\u001b[0m\u001b[0mpopt\u001b[0m\u001b[0;34m)\u001b[0m\u001b[0;34m)\u001b[0m\u001b[0;34m\u001b[0m\u001b[0m\n\u001b[1;32m      4\u001b[0m \u001b[0;34m\u001b[0m\u001b[0m\n\u001b[0;32m----> 5\u001b[0;31m \u001b[0mdistance\u001b[0m \u001b[0;34m=\u001b[0m \u001b[0meuclid_dist\u001b[0m\u001b[0;34m(\u001b[0m\u001b[0ma\u001b[0m\u001b[0;34m,\u001b[0m \u001b[0mb\u001b[0m\u001b[0;34m)\u001b[0m\u001b[0;34m\u001b[0m\u001b[0m\n\u001b[0m",
      "\u001b[0;32m<ipython-input-254-5e667e8f934d>\u001b[0m in \u001b[0;36meuclid_dist\u001b[0;34m(t1, t2)\u001b[0m\n\u001b[1;32m      2\u001b[0m \u001b[0;34m\u001b[0m\u001b[0m\n\u001b[1;32m      3\u001b[0m \u001b[0;32mdef\u001b[0m \u001b[0meuclid_dist\u001b[0m\u001b[0;34m(\u001b[0m\u001b[0mt1\u001b[0m\u001b[0;34m,\u001b[0m \u001b[0mt2\u001b[0m\u001b[0;34m)\u001b[0m\u001b[0;34m:\u001b[0m\u001b[0;34m\u001b[0m\u001b[0m\n\u001b[0;32m----> 4\u001b[0;31m     \u001b[0;32mreturn\u001b[0m \u001b[0mnp\u001b[0m\u001b[0;34m.\u001b[0m\u001b[0msqrt\u001b[0m\u001b[0;34m(\u001b[0m\u001b[0mnp\u001b[0m\u001b[0;34m.\u001b[0m\u001b[0msum\u001b[0m\u001b[0;34m(\u001b[0m\u001b[0;34m(\u001b[0m\u001b[0mt1\u001b[0m\u001b[0;34m-\u001b[0m\u001b[0mt2\u001b[0m\u001b[0;34m)\u001b[0m\u001b[0;34m**\u001b[0m\u001b[0;36m2\u001b[0m\u001b[0;34m,\u001b[0m\u001b[0maxis\u001b[0m\u001b[0;34m=\u001b[0m\u001b[0;36m1\u001b[0m\u001b[0;34m)\u001b[0m\u001b[0;34m)\u001b[0m\u001b[0;34m\u001b[0m\u001b[0m\n\u001b[0m\u001b[1;32m      5\u001b[0m \u001b[0;34m\u001b[0m\u001b[0m\n\u001b[1;32m      6\u001b[0m \u001b[0;32mimport\u001b[0m \u001b[0mnumpy\u001b[0m \u001b[0;32mas\u001b[0m \u001b[0mnp\u001b[0m\u001b[0;34m\u001b[0m\u001b[0m\n",
      "\u001b[0;31mTypeError\u001b[0m: unsupported operand type(s) for -: 'tuple' and 'tuple'"
     ]
    }
   ],
   "source": [
    "from scipy.spatial import distance\n",
    "a = (popt[3],popt[2])\n",
    "b = (xdata, func(xdata, *popt))\n",
    "\n",
    "distance = euclid_dist(a, b)"
   ]
  },
  {
   "cell_type": "code",
   "execution_count": 395,
   "metadata": {},
   "outputs": [
    {
     "name": "stderr",
     "output_type": "stream",
     "text": [
      "/Users/lucyowen/Library/Python/3.6/lib/python/site-packages/ipykernel_launcher.py:5: FutureWarning: Method .as_matrix will be removed in a future version. Use .values instead.\n",
      "  \"\"\"\n"
     ]
    },
    {
     "data": {
      "image/png": "[encoded data removed]",
      "text/plain": [
       "<Figure size 432x288 with 1 Axes>"
      ]
     },
     "metadata": {
      "needs_background": "light"
     },
     "output_type": "display_data"
    },
    {
     "data": {
      "text/plain": [
       "<Figure size 432x288 with 0 Axes>"
      ]
     },
     "metadata": {},
     "output_type": "display_data"
    }
   ],
   "source": [
    "#conditions = ['intact', 'paragraph', 'word', 'rest']\n",
    "conditions = ['intact']\n",
    "for e, c in enumerate(conditions):\n",
    "    \n",
    "    ydata = full_data[full_data['condition']==c].groupby('dims')['accuracy'].mean().as_matrix()\n",
    "    xdata = np.array(full_data[full_data['condition']==c].groupby('dims')['accuracy'].mean().index)\n",
    "\n",
    "    popt, pcov = curve_fit(func, xdata, ydata, maxfev=4000)\n",
    "    \n",
    "    hill_all[e, 0, 0] = popt[1]\n",
    "    \n",
    "    maxs_all[e, 0, 0] = ydata.max()\n",
    "    \n",
    "\n",
    "    plt.plot(xdata, ydata)\n",
    "    plt.plot(xdata, func(xdata, *popt), 'r-')\n",
    "    plt.axhline(y=popt[3], color='g', linestyle='-')\n",
    "    plt.axvline(x=popt[2], color='g', linestyle='-')\n",
    "    #plt.plot((0, 0), (20, 20*popt[1]), linewidth=4, color='r')\n",
    "    #plt.line(x=popt[1], y =20, color='g', linestyle='-')\n",
    "    #plt.axvline(x=popt[0], color='g', linestyle='-')\n",
    "    plt.show()\n",
    "    plt.clf()"
   ]
  },
  {
   "cell_type": "code",
   "execution_count": 105,
   "metadata": {},
   "outputs": [
    {
     "data": {
      "text/plain": [
       "array([-3.49609219e-03,  1.80824043e+00,  7.79462669e+00,  1.83593377e-01,\n",
       "        9.94983485e-01])"
      ]
     },
     "execution_count": 105,
     "metadata": {},
     "output_type": "execute_result"
    }
   ],
   "source": [
    "popt"
   ]
  },
  {
   "cell_type": "code",
   "execution_count": 104,
   "metadata": {},
   "outputs": [],
   "source": [
    "from scipy.interpolate import UnivariateSpline\n",
    "spline = UnivariateSpline(xdata, func(xdata, *popt))"
   ]
  },
  {
   "cell_type": "code",
   "execution_count": 129,
   "metadata": {},
   "outputs": [
    {
     "data": {
      "text/plain": [
       "<scipy.interpolate.fitpack2.LSQUnivariateSpline at 0x1278f99b0>"
      ]
     },
     "execution_count": 129,
     "metadata": {},
     "output_type": "execute_result"
    }
   ],
   "source": [
    "spline"
   ]
  },
  {
   "cell_type": "code",
   "execution_count": 102,
   "metadata": {},
   "outputs": [
    {
     "ename": "ValueError",
     "evalue": "Error code returned by spalde: 10",
     "output_type": "error",
     "traceback": [
      "\u001b[0;31m---------------------------------------------------------------------------\u001b[0m",
      "\u001b[0;31mValueError\u001b[0m                                Traceback (most recent call last)",
      "\u001b[0;32m<ipython-input-102-34abcbeca3c5>\u001b[0m in \u001b[0;36m<module>\u001b[0;34m()\u001b[0m\n\u001b[0;32m----> 1\u001b[0;31m \u001b[0mspline\u001b[0m\u001b[0;34m.\u001b[0m\u001b[0mderivatives\u001b[0m\u001b[0;34m(\u001b[0m\u001b[0;36m0\u001b[0m\u001b[0;34m)\u001b[0m\u001b[0;34m\u001b[0m\u001b[0m\n\u001b[0m",
      "\u001b[0;32m/usr/local/lib/python3.6/site-packages/scipy/interpolate/fitpack2.py\u001b[0m in \u001b[0;36mderivatives\u001b[0;34m(self, x)\u001b[0m\n\u001b[1;32m    398\u001b[0m         \u001b[0md\u001b[0m\u001b[0;34m,\u001b[0m\u001b[0mier\u001b[0m \u001b[0;34m=\u001b[0m \u001b[0mdfitpack\u001b[0m\u001b[0;34m.\u001b[0m\u001b[0mspalde\u001b[0m\u001b[0;34m(\u001b[0m\u001b[0;34m*\u001b[0m\u001b[0;34m(\u001b[0m\u001b[0mself\u001b[0m\u001b[0;34m.\u001b[0m\u001b[0m_eval_args\u001b[0m\u001b[0;34m+\u001b[0m\u001b[0;34m(\u001b[0m\u001b[0mx\u001b[0m\u001b[0;34m,\u001b[0m\u001b[0;34m)\u001b[0m\u001b[0;34m)\u001b[0m\u001b[0;34m)\u001b[0m\u001b[0;34m\u001b[0m\u001b[0m\n\u001b[1;32m    399\u001b[0m         \u001b[0;32mif\u001b[0m \u001b[0;32mnot\u001b[0m \u001b[0mier\u001b[0m \u001b[0;34m==\u001b[0m \u001b[0;36m0\u001b[0m\u001b[0;34m:\u001b[0m\u001b[0;34m\u001b[0m\u001b[0m\n\u001b[0;32m--> 400\u001b[0;31m             \u001b[0;32mraise\u001b[0m \u001b[0mValueError\u001b[0m\u001b[0;34m(\u001b[0m\u001b[0;34m\"Error code returned by spalde: %s\"\u001b[0m \u001b[0;34m%\u001b[0m \u001b[0mier\u001b[0m\u001b[0;34m)\u001b[0m\u001b[0;34m\u001b[0m\u001b[0m\n\u001b[0m\u001b[1;32m    401\u001b[0m         \u001b[0;32mreturn\u001b[0m \u001b[0md\u001b[0m\u001b[0;34m\u001b[0m\u001b[0m\n\u001b[1;32m    402\u001b[0m \u001b[0;34m\u001b[0m\u001b[0m\n",
      "\u001b[0;31mValueError\u001b[0m: Error code returned by spalde: 10"
     ]
    }
   ],
   "source": [
    "spline.derivatives(0)"
   ]
  },
  {
   "cell_type": "code",
   "execution_count": 103,
   "metadata": {},
   "outputs": [
    {
     "data": {
      "text/plain": [
       "array([ 2.36795739e-16, -2.36795739e-16,  2.00000000e+00,  0.00000000e+00])"
      ]
     },
     "execution_count": 103,
     "metadata": {},
     "output_type": "execute_result"
    }
   ],
   "source": [
    "x = np.linspace(0, 3, 11)\n",
    "y = x**2\n",
    "spl = UnivariateSpline(x, y)\n",
    "spl.derivatives(0)\n",
    "\n"
   ]
  },
  {
   "cell_type": "code",
   "execution_count": 278,
   "metadata": {},
   "outputs": [
    {
     "data": {
      "text/plain": [
       "[<matplotlib.lines.Line2D at 0x1260030f0>]"
      ]
     },
     "execution_count": 278,
     "metadata": {},
     "output_type": "execute_result"
    },
    {
     "data": {
      "image/png": "[encoded data removed]",
      "text/plain": [
       "<Figure size 432x288 with 1 Axes>"
      ]
     },
     "metadata": {
      "needs_background": "light"
     },
     "output_type": "display_data"
    }
   ],
   "source": [
    "plt.plot(xdata, (func(xdata, *popt)-func(xdata, *popt).min())/(func(xdata, *popt).max()-func(xdata, *popt).min()), label=\"y\")\n",
    "\n",
    "\n"
   ]
  },
  {
   "cell_type": "code",
   "execution_count": 106,
   "metadata": {},
   "outputs": [
    {
     "data": {
      "text/plain": [
       "0.008217679182541349"
      ]
     },
     "execution_count": 106,
     "metadata": {},
     "output_type": "execute_result"
    }
   ],
   "source": [
    "spline(xdata, 1).max()"
   ]
  },
  {
   "cell_type": "code",
   "execution_count": 112,
   "metadata": {},
   "outputs": [
    {
     "data": {
      "text/plain": [
       "array([0.        , 0.00028095, 0.00055735, 0.00082918, 0.00109644,\n",
       "       0.00135915, 0.00161729, 0.00187087, 0.00211989, 0.00236435,\n",
       "       0.00260425, 0.00283958, 0.00307035, 0.00329656, 0.0035182 ,\n",
       "       0.00373528, 0.00394781, 0.00415577, 0.00435916, 0.004558  ,\n",
       "       0.00475227, 0.00494198, 0.00512713, 0.00530771, 0.00548374,\n",
       "       0.0056552 , 0.0058221 , 0.00598444, 0.00614221, 0.00629542,\n",
       "       0.00644407, 0.00658816, 0.00672769, 0.00686265, 0.00699305,\n",
       "       0.00711889, 0.00724017, 0.00735689, 0.00746904, 0.00757663,\n",
       "       0.00767966, 0.00777813, 0.00787203, 0.00796137, 0.00804615,\n",
       "       0.00812637, 0.00820202, 0.00827312, 0.00833965, 0.00840162,\n",
       "       0.00845902, 0.00851187, 0.00856015, 0.00860387, 0.00864303,\n",
       "       0.00867762, 0.00870766, 0.00873313, 0.00875404, 0.00877038,\n",
       "       0.00878217, 0.00878939, 0.00879205, 0.00879015, 0.00878368,\n",
       "       0.00877266, 0.00875707, 0.00873692, 0.0087122 , 0.00868293,\n",
       "       0.00864909, 0.00861069, 0.00856773, 0.00852021, 0.00846812,\n",
       "       0.00841147, 0.00835026, 0.00828449, 0.00821415, 0.00813925,\n",
       "       0.00805979, 0.00797577, 0.00788719, 0.00779404, 0.00769633,\n",
       "       0.00759406, 0.00748723, 0.00737584, 0.00725988, 0.00713936,\n",
       "       0.00701428, 0.00688463, 0.00675043, 0.00661166, 0.00646833,\n",
       "       0.00632044, 0.00616798, 0.00601097, 0.00584939, 0.00568324])"
      ]
     },
     "execution_count": 112,
     "metadata": {},
     "output_type": "execute_result"
    }
   ],
   "source": [
    "np.abs(spline(xdata, 1) - spline(xdata, 1).max())"
   ]
  },
  {
   "cell_type": "code",
   "execution_count": 350,
   "metadata": {},
   "outputs": [
    {
     "data": {
      "text/plain": [
       "[<matplotlib.lines.Line2D at 0x128992fd0>]"
      ]
     },
     "execution_count": 350,
     "metadata": {},
     "output_type": "execute_result"
    },
    {
     "data": {
      "image/png": "[encoded data removed]",
      "text/plain": [
       "<Figure size 432x288 with 1 Axes>"
      ]
     },
     "metadata": {
      "needs_background": "light"
     },
     "output_type": "display_data"
    }
   ],
   "source": [
    "plt.plot(xdata, func(xdata, *popt), label='data')"
   ]
  },
  {
   "cell_type": "code",
   "execution_count": 386,
   "metadata": {},
   "outputs": [],
   "source": [
    "def n_derivative(arr, degree=1):\n",
    "    \"\"\"Compute the n-th derivative.\"\"\"\n",
    "    result = arr.copy()\n",
    "    for i in range(degree):\n",
    "        result = np.gradient(result)\n",
    "    return result\n",
    "\n",
    "\n",
    "def close_zero(arr, threshold=1e-4):\n",
    "    return (abs(arr) < threshold)\n",
    "\n",
    "def maxima_2(arr):\n",
    "    return close_zero(n_derivative(arr, 2)) & (n_derivative(arr, 3) > 0)\n"
   ]
  },
  {
   "cell_type": "code",
   "execution_count": 387,
   "metadata": {},
   "outputs": [
    {
     "ename": "ValueError",
     "evalue": "The truth value of an array with more than one element is ambiguous. Use a.any() or a.all()",
     "output_type": "error",
     "traceback": [
      "\u001b[0;31m---------------------------------------------------------------------------\u001b[0m",
      "\u001b[0;31mValueError\u001b[0m                                Traceback (most recent call last)",
      "\u001b[0;32m<ipython-input-387-6c4ad139457b>\u001b[0m in \u001b[0;36m<module>\u001b[0;34m()\u001b[0m\n\u001b[0;32m----> 1\u001b[0;31m \u001b[0mxdata\u001b[0m\u001b[0;34m[\u001b[0m\u001b[0mmaxima_2\u001b[0m\u001b[0;34m(\u001b[0m\u001b[0my\u001b[0m\u001b[0;34m)\u001b[0m\u001b[0;34m]\u001b[0m\u001b[0;34m.\u001b[0m\u001b[0mmin\u001b[0m\u001b[0;34m(\u001b[0m\u001b[0;34m)\u001b[0m\u001b[0;34m\u001b[0m\u001b[0m\n\u001b[0m",
      "\u001b[0;32m<ipython-input-386-a8bfbe4b7aa7>\u001b[0m in \u001b[0;36mmaxima_2\u001b[0;34m(arr)\u001b[0m\n\u001b[1;32m     11\u001b[0m \u001b[0;34m\u001b[0m\u001b[0m\n\u001b[1;32m     12\u001b[0m \u001b[0;32mdef\u001b[0m \u001b[0mmaxima_2\u001b[0m\u001b[0;34m(\u001b[0m\u001b[0marr\u001b[0m\u001b[0;34m)\u001b[0m\u001b[0;34m:\u001b[0m\u001b[0;34m\u001b[0m\u001b[0m\n\u001b[0;32m---> 13\u001b[0;31m     \u001b[0;32mreturn\u001b[0m \u001b[0;32mnot\u001b[0m \u001b[0mclose_zero\u001b[0m\u001b[0;34m(\u001b[0m\u001b[0mn_derivative\u001b[0m\u001b[0;34m(\u001b[0m\u001b[0marr\u001b[0m\u001b[0;34m,\u001b[0m \u001b[0;36m2\u001b[0m\u001b[0;34m)\u001b[0m\u001b[0;34m)\u001b[0m \u001b[0;34m&\u001b[0m \u001b[0;34m(\u001b[0m\u001b[0mn_derivative\u001b[0m\u001b[0;34m(\u001b[0m\u001b[0marr\u001b[0m\u001b[0;34m,\u001b[0m \u001b[0;36m3\u001b[0m\u001b[0;34m)\u001b[0m \u001b[0;34m>\u001b[0m \u001b[0;36m0\u001b[0m\u001b[0;34m)\u001b[0m\u001b[0;34m\u001b[0m\u001b[0m\n\u001b[0m",
      "\u001b[0;31mValueError\u001b[0m: The truth value of an array with more than one element is ambiguous. Use a.any() or a.all()"
     ]
    }
   ],
   "source": [
    "maxima_2(y)"
   ]
  },
  {
   "cell_type": "code",
   "execution_count": 361,
   "metadata": {},
   "outputs": [
    {
     "data": {
      "text/plain": [
       "<matplotlib.lines.Line2D at 0x128ca4160>"
      ]
     },
     "execution_count": 361,
     "metadata": {},
     "output_type": "execute_result"
    },
    {
     "data": {
      "image/png": "[encoded data removed]",
      "text/plain": [
       "<Figure size 432x288 with 1 Axes>"
      ]
     },
     "metadata": {
      "needs_background": "light"
     },
     "output_type": "display_data"
    }
   ],
   "source": [
    "plt.plot(xdata, func(xdata, *popt), label='data')\n",
    "plt.axvline(x=xdata[maxima_2(y)].min(), color='g', linestyle='-')"
   ]
  },
  {
   "cell_type": "code",
   "execution_count": 131,
   "metadata": {},
   "outputs": [],
   "source": [
    "import scipy as sp\n",
    "import scipy.interpolate\n",
    "f = sp.interpolate.interp1d(xdata, func(xdata, *popt), 'cubic')"
   ]
  },
  {
   "cell_type": "code",
   "execution_count": 133,
   "metadata": {},
   "outputs": [],
   "source": [
    "x = xdata\n",
    "y = f(x)"
   ]
  },
  {
   "cell_type": "code",
   "execution_count": 311,
   "metadata": {},
   "outputs": [
    {
     "data": {
      "image/png": "[encoded data removed]",
      "text/plain": [
       "<Figure size 432x288 with 1 Axes>"
      ]
     },
     "metadata": {
      "needs_background": "light"
     },
     "output_type": "display_data"
    }
   ],
   "source": [
    "plt.figure()\n",
    "plt.plot(xdata, func(xdata, *popt), label='data')\n",
    "plt.plot(x, y, label='f')\n",
    "plt.plot(x, n_derivative(y, 1), label='d1f')\n",
    "plt.plot(x, n_derivative(y, 2), label='d2f')\n",
    "plt.plot(x, n_derivative(y, 3), label='d3f')\n",
    "plt.legend()\n",
    "for w in np.where(maxima(y))[0]:\n",
    "    plt.axvline(x=x[w])\n",
    "plt.show()"
   ]
  },
  {
   "cell_type": "code",
   "execution_count": 316,
   "metadata": {},
   "outputs": [],
   "source": [
    "from scipy.signal import argrelextrema"
   ]
  },
  {
   "cell_type": "code",
   "execution_count": 337,
   "metadata": {},
   "outputs": [
    {
     "data": {
      "text/plain": [
       "array([False, False, False, False, False, False, False, False, False,\n",
       "       False, False, False, False, False, False, False, False, False,\n",
       "       False, False, False, False, False, False, False, False, False,\n",
       "       False, False, False, False, False, False, False, False, False,\n",
       "       False, False, False, False, False, False, False, False, False,\n",
       "       False, False, False, False, False, False, False, False, False,\n",
       "       False, False, False, False, False, False, False, False, False,\n",
       "       False, False, False, False, False, False, False, False, False,\n",
       "       False, False, False, False, False, False, False, False, False,\n",
       "       False, False, False, False, False, False, False, False, False,\n",
       "       False, False, False, False, False, False, False, False, False,\n",
       "       False])"
      ]
     },
     "execution_count": 337,
     "metadata": {},
     "output_type": "execute_result"
    }
   ],
   "source": [
    "maxima_2(y)"
   ]
  },
  {
   "cell_type": "code",
   "execution_count": 335,
   "metadata": {},
   "outputs": [
    {
     "data": {
      "text/plain": [
       "array([ 3.28484253e-04, -8.17155329e-05, -9.27054201e-04, -1.10410692e-03,\n",
       "       -6.41932975e-04, -2.99068500e-04, -7.72591807e-05,  4.92633540e-05,\n",
       "        1.11367322e-04,  1.34360960e-04,  1.35728618e-04,  1.26371043e-04,\n",
       "        1.12596023e-04,  9.78139466e-05,  8.37231456e-05,  7.10607566e-05,\n",
       "        6.00508344e-05,  5.06607336e-05,  4.27425890e-05,  3.61084024e-05,\n",
       "        3.05678350e-05,  2.59456000e-05,  2.20880417e-05,  1.88642363e-05,\n",
       "        1.61645175e-05,  1.38979729e-05,  1.19896952e-05,  1.03781686e-05,\n",
       "        9.01294362e-06,  7.85264842e-06,  6.86332472e-06,  6.01705542e-06,\n",
       "        5.29084284e-06,  4.66569650e-06,  4.12589376e-06,  3.65838123e-06,\n",
       "        3.25229037e-06,  2.89854508e-06,  2.58954364e-06,  2.31890020e-06,\n",
       "        2.08123449e-06,  1.87200018e-06,  1.68734453e-06,  1.52399332e-06,\n",
       "        1.37915623e-06,  1.25044883e-06,  1.13582810e-06,  1.03353904e-06,\n",
       "        9.42070153e-07,  8.60116504e-07,  7.86548732e-07,  7.20387140e-07,\n",
       "        6.60779912e-07,  6.06984766e-07,  5.58353467e-07,  5.14318713e-07,\n",
       "        4.74383005e-07,  4.38109191e-07,  4.05112387e-07,  3.75053091e-07,\n",
       "        3.47631275e-07,  3.22581318e-07,  2.99667649e-07,  2.78680988e-07,\n",
       "        2.59435103e-07,  2.41764004e-07,  2.25519506e-07,  2.10569120e-07,\n",
       "        1.96794207e-07,  1.84088377e-07,  1.72356089e-07,  1.61511423e-07,\n",
       "        1.51477005e-07,  1.42183067e-07,  1.33566618e-07,  1.25570711e-07,\n",
       "        1.18143798e-07,  1.11239169e-07,  1.04814440e-07,  9.88311115e-08,\n",
       "        9.32541733e-08,  8.80517521e-08,  8.31947994e-08,  7.86568133e-08,\n",
       "        7.44135903e-08,  7.04430033e-08,  6.67248038e-08,  6.32404446e-08,\n",
       "        5.99729200e-08,  5.69066241e-08,  5.40272220e-08,  5.13215346e-08,\n",
       "        4.87774352e-08,  4.63837553e-08,  4.41302009e-08,  4.20072757e-08,\n",
       "        4.00062126e-08,  1.53784619e-07,  2.59011050e-07,  2.49487955e-07])"
      ]
     },
     "execution_count": 335,
     "metadata": {},
     "output_type": "execute_result"
    }
   ],
   "source": [
    "n_derivative(y, 3)"
   ]
  },
  {
   "cell_type": "code",
   "execution_count": 333,
   "metadata": {},
   "outputs": [],
   "source": [
    "from numpy import *\n",
    "\n",
    "a = diff(sign(diff(n_derivative(y, 2)[7:]))).nonzero()[0] + 1 # local min+max\n",
    "b = (diff(sign(diff(n_derivative(y, 2)[7:]))) > 0).nonzero()[0] + 1 # local min\n",
    "c = (diff(sign(diff(n_derivative(y, 2)[7:]))) < 0).nonzero()[0] + 1 # local max\n"
   ]
  },
  {
   "cell_type": "code",
   "execution_count": 334,
   "metadata": {},
   "outputs": [
    {
     "ename": "NameError",
     "evalue": "name 'legend' is not defined",
     "output_type": "error",
     "traceback": [
      "\u001b[0;31m---------------------------------------------------------------------------\u001b[0m",
      "\u001b[0;31mNameError\u001b[0m                                 Traceback (most recent call last)",
      "\u001b[0;32m<ipython-input-334-fe80de0c0894>\u001b[0m in \u001b[0;36m<module>\u001b[0;34m()\u001b[0m\n\u001b[1;32m      2\u001b[0m \u001b[0mplt\u001b[0m\u001b[0;34m.\u001b[0m\u001b[0mplot\u001b[0m\u001b[0;34m(\u001b[0m\u001b[0mxdata\u001b[0m\u001b[0;34m[\u001b[0m\u001b[0;36m7\u001b[0m\u001b[0;34m:\u001b[0m\u001b[0;34m]\u001b[0m\u001b[0;34m[\u001b[0m\u001b[0mb\u001b[0m\u001b[0;34m]\u001b[0m\u001b[0;34m,\u001b[0m \u001b[0mn_derivative\u001b[0m\u001b[0;34m(\u001b[0m\u001b[0my\u001b[0m\u001b[0;34m,\u001b[0m \u001b[0;36m2\u001b[0m\u001b[0;34m)\u001b[0m\u001b[0;34m[\u001b[0m\u001b[0;36m7\u001b[0m\u001b[0;34m:\u001b[0m\u001b[0;34m]\u001b[0m\u001b[0;34m[\u001b[0m\u001b[0mb\u001b[0m\u001b[0;34m]\u001b[0m\u001b[0;34m,\u001b[0m \u001b[0;34m\"o\"\u001b[0m\u001b[0;34m,\u001b[0m \u001b[0mlabel\u001b[0m\u001b[0;34m=\u001b[0m\u001b[0;34m\"min\"\u001b[0m\u001b[0;34m)\u001b[0m\u001b[0;34m\u001b[0m\u001b[0m\n\u001b[1;32m      3\u001b[0m \u001b[0mplt\u001b[0m\u001b[0;34m.\u001b[0m\u001b[0mplot\u001b[0m\u001b[0;34m(\u001b[0m\u001b[0mxdata\u001b[0m\u001b[0;34m[\u001b[0m\u001b[0;36m7\u001b[0m\u001b[0;34m:\u001b[0m\u001b[0;34m]\u001b[0m\u001b[0;34m[\u001b[0m\u001b[0mc\u001b[0m\u001b[0;34m]\u001b[0m\u001b[0;34m,\u001b[0m \u001b[0mn_derivative\u001b[0m\u001b[0;34m(\u001b[0m\u001b[0my\u001b[0m\u001b[0;34m,\u001b[0m \u001b[0;36m2\u001b[0m\u001b[0;34m)\u001b[0m\u001b[0;34m[\u001b[0m\u001b[0;36m7\u001b[0m\u001b[0;34m:\u001b[0m\u001b[0;34m]\u001b[0m\u001b[0;34m[\u001b[0m\u001b[0mc\u001b[0m\u001b[0;34m]\u001b[0m\u001b[0;34m,\u001b[0m \u001b[0;34m\"o\"\u001b[0m\u001b[0;34m,\u001b[0m \u001b[0mlabel\u001b[0m\u001b[0;34m=\u001b[0m\u001b[0;34m\"max\"\u001b[0m\u001b[0;34m)\u001b[0m\u001b[0;34m\u001b[0m\u001b[0m\n\u001b[0;32m----> 4\u001b[0;31m \u001b[0mlegend\u001b[0m\u001b[0;34m(\u001b[0m\u001b[0;34m)\u001b[0m\u001b[0;34m\u001b[0m\u001b[0m\n\u001b[0m\u001b[1;32m      5\u001b[0m \u001b[0mshow\u001b[0m\u001b[0;34m(\u001b[0m\u001b[0;34m)\u001b[0m\u001b[0;34m\u001b[0m\u001b[0m\n",
      "\u001b[0;31mNameError\u001b[0m: name 'legend' is not defined"
     ]
    },
    {
     "data": {
      "image/png": "[encoded data removed]",
      "text/plain": [
       "<Figure size 432x288 with 1 Axes>"
      ]
     },
     "metadata": {
      "needs_background": "light"
     },
     "output_type": "display_data"
    }
   ],
   "source": [
    "plt.plot(xdata[7:],n_derivative(y, 2)[7:])\n",
    "plt.plot(xdata[7:][b], n_derivative(y, 2)[7:][b], \"o\", label=\"min\")\n",
    "plt.plot(xdata[7:][c], n_derivative(y, 2)[7:][c], \"o\", label=\"max\")\n",
    "legend()\n",
    "show()"
   ]
  },
  {
   "cell_type": "code",
   "execution_count": 315,
   "metadata": {},
   "outputs": [
    {
     "data": {
      "text/plain": [
       "array([False, False, False, False,  True, False, False, False, False,\n",
       "       False, False, False, False, False, False, False, False, False,\n",
       "       False, False, False, False, False, False, False, False, False,\n",
       "       False, False, False, False, False, False, False, False, False,\n",
       "       False, False, False, False, False, False, False, False, False,\n",
       "       False, False, False, False, False, False, False, False, False,\n",
       "       False, False, False, False, False, False, False, False, False,\n",
       "       False, False, False, False, False, False, False, False, False,\n",
       "       False, False, False, False, False, False, False, False, False,\n",
       "       False, False, False, False, False, False, False, False, False,\n",
       "       False, False, False, False, False, False, False, False, False,\n",
       "       False])"
      ]
     },
     "execution_count": 315,
     "metadata": {},
     "output_type": "execute_result"
    }
   ],
   "source": [
    "zeroes(n_derivative(y, 2))"
   ]
  },
  {
   "cell_type": "code",
   "execution_count": 309,
   "metadata": {},
   "outputs": [
    {
     "data": {
      "text/plain": [
       "-0.0013484482073795913"
      ]
     },
     "execution_count": 309,
     "metadata": {},
     "output_type": "execute_result"
    }
   ],
   "source": [
    "n_derivative(y, 2).min()"
   ]
  },
  {
   "cell_type": "code",
   "execution_count": 307,
   "metadata": {},
   "outputs": [
    {
     "data": {
      "text/plain": [
       "(array([99]),)"
      ]
     },
     "execution_count": 307,
     "metadata": {},
     "output_type": "execute_result"
    }
   ],
   "source": [
    "np.where(np.abs(n_derivative(y, 2)).min() == np.abs(n_derivative(y, 2)))"
   ]
  },
  {
   "cell_type": "code",
   "execution_count": 305,
   "metadata": {},
   "outputs": [
    {
     "data": {
      "text/plain": [
       "(array([4]),)"
      ]
     },
     "execution_count": 305,
     "metadata": {},
     "output_type": "execute_result"
    }
   ],
   "source": [
    "np.where(zeroes(n_derivative(y, 2)))"
   ]
  },
  {
   "cell_type": "code",
   "execution_count": null,
   "metadata": {},
   "outputs": [],
   "source": [
    "from scipy.optimize import fsolve\n",
    "grad = sym.lambdify((x, y), gradient)\n",
    "fsolve(lambda v: grad(v[0], v[1]), (1, 2))"
   ]
  },
  {
   "cell_type": "code",
   "execution_count": 168,
   "metadata": {},
   "outputs": [],
   "source": [
    "from scipy.ndimage import rank_filter\n",
    "\n",
    "def find_local_maxima(x):\n",
    "    x_dilate = rank_filter(x, -1, size=3)\n",
    "    return x_dilate == x"
   ]
  },
  {
   "cell_type": "code",
   "execution_count": null,
   "metadata": {},
   "outputs": [],
   "source": [
    "\n",
    "plt.plot(xdata, (spline(xdata)-spline(xdata).min())/(spline(xdata).max()-spline(xdata).min()), label=\"y2\")\n",
    "plt.plot(xdata, (spline(xdata, 1)-spline(xdata, 1).min())/(spline(xdata, 1).max()-spline(xdata, 1).min()), label=\"y2'\")\n",
    "plt.plot(xdata, (spline(xdata, 2)-spline(xdata, 2).min())/(spline(xdata, 2).max()-spline(xdata, 2).min()), label=\"y2''\")\n",
    "plt.plot(xdata, (spline(xdata, 3)-spline(xdata, 3).min())/(spline(xdata, 3).max()-spline(xdata, 3).min()), label=\"y2'''\")\n",
    "plt.axvline(x=popt[2], color='g', linestyle='-')\n",
    "plt.axvline(x=7, color='g', linestyle='-')\n",
    "plt.legend()\n",
    "plt.show()"
   ]
  },
  {
   "cell_type": "code",
   "execution_count": 113,
   "metadata": {},
   "outputs": [],
   "source": [
    "from scipy import optimize"
   ]
  },
  {
   "cell_type": "code",
   "execution_count": 122,
   "metadata": {},
   "outputs": [],
   "source": [
    "def f(x):\n",
    "\n",
    "    return (((-3.49609219e-03-1.83593377e-01)/((1+((x/7.79462669e+00)** 1.80824043e+00))**9.94983485e-01)) + 1.83593377e-01 )"
   ]
  },
  {
   "cell_type": "code",
   "execution_count": 121,
   "metadata": {},
   "outputs": [
    {
     "data": {
      "text/plain": [
       "array([-3.49609219e-03,  1.80824043e+00,  7.79462669e+00,  1.83593377e-01,\n",
       "        9.94983485e-01])"
      ]
     },
     "execution_count": 121,
     "metadata": {},
     "output_type": "execute_result"
    }
   ],
   "source": [
    "popt"
   ]
  },
  {
   "cell_type": "code",
   "execution_count": 118,
   "metadata": {},
   "outputs": [
    {
     "data": {
      "text/plain": [
       "array([0.00093837, 0.01116257, 0.02462945, 0.03941026, 0.05415214,\n",
       "       0.06804078, 0.08067358, 0.09191867, 0.10180123, 0.11042587,\n",
       "       0.1179292 , 0.12445331, 0.13013236, 0.13508681, 0.1394217 ,\n",
       "       0.14322715, 0.14657972, 0.14954411, 0.15217491, 0.1545181 ,\n",
       "       0.15661255, 0.15849107, 0.16018151, 0.16170754, 0.16308935,\n",
       "       0.16434423, 0.165487  , 0.16653045, 0.16748563, 0.16836212,\n",
       "       0.16916826, 0.16991134, 0.17059773, 0.17123303, 0.17182216,\n",
       "       0.1723695 , 0.17287889, 0.17335376, 0.17379717, 0.17421184,\n",
       "       0.1746002 , 0.17496445, 0.17530653, 0.17562823, 0.17593114,\n",
       "       0.17621669, 0.17648621, 0.17674086, 0.17698175, 0.17720983,\n",
       "       0.17742602, 0.17763114, 0.17782592, 0.17801107, 0.1781872 ,\n",
       "       0.17835491, 0.17851472, 0.17866713, 0.17881259, 0.17895152,\n",
       "       0.17908432, 0.17921133, 0.1793329 , 0.17944934, 0.17956093,\n",
       "       0.17966794, 0.17977062, 0.17986921, 0.17996392, 0.18005495,\n",
       "       0.1801425 , 0.18022674, 0.18030784, 0.18038595, 0.18046123,\n",
       "       0.18053381, 0.18060381, 0.18067137, 0.18073659, 0.18079958,\n",
       "       0.18086045, 0.18091928, 0.18097618, 0.18103122, 0.18108449,\n",
       "       0.18113606, 0.18118601, 0.1812344 , 0.1812813 , 0.18132677,\n",
       "       0.18137087, 0.18141365, 0.18145517, 0.18149547, 0.18153461,\n",
       "       0.18157263, 0.18160957, 0.18164547, 0.18168038, 0.18171432])"
      ]
     },
     "execution_count": 118,
     "metadata": {},
     "output_type": "execute_result"
    }
   ],
   "source": [
    "func(xdata, *popt)"
   ]
  },
  {
   "cell_type": "code",
   "execution_count": 123,
   "metadata": {},
   "outputs": [],
   "source": [
    "grid = (0, 10, 0.1)\n",
    "xmin_global = optimize.brute(f, (grid, ))"
   ]
  },
  {
   "cell_type": "code",
   "execution_count": 124,
   "metadata": {},
   "outputs": [
    {
     "data": {
      "text/plain": [
       "array([0.])"
      ]
     },
     "execution_count": 124,
     "metadata": {},
     "output_type": "execute_result"
    }
   ],
   "source": [
    "xmin_global"
   ]
  },
  {
   "cell_type": "code",
   "execution_count": 127,
   "metadata": {},
   "outputs": [],
   "source": [
    "xmin_local = optimize.fminbound(f, 1, 30)"
   ]
  },
  {
   "cell_type": "code",
   "execution_count": 128,
   "metadata": {},
   "outputs": [
    {
     "data": {
      "text/plain": [
       "1.0000059537899673"
      ]
     },
     "execution_count": 128,
     "metadata": {},
     "output_type": "execute_result"
    }
   ],
   "source": [
    "xmin_local"
   ]
  },
  {
   "cell_type": "code",
   "execution_count": 81,
   "metadata": {},
   "outputs": [
    {
     "data": {
      "text/plain": [
       "(array([99]),)"
      ]
     },
     "execution_count": 81,
     "metadata": {},
     "output_type": "execute_result"
    }
   ],
   "source": [
    "np.where(np.abs(spline(xdata, 1)).min() == np.abs(spline(xdata, 1)))"
   ]
  },
  {
   "cell_type": "code",
   "execution_count": 77,
   "metadata": {},
   "outputs": [
    {
     "data": {
      "text/plain": [
       "-0.0014001873027417984"
      ]
     },
     "execution_count": 77,
     "metadata": {},
     "output_type": "execute_result"
    }
   ],
   "source": [
    "spline(xdata, 2).min()"
   ]
  },
  {
   "cell_type": "code",
   "execution_count": 378,
   "metadata": {},
   "outputs": [
    {
     "name": "stderr",
     "output_type": "stream",
     "text": [
      "/Users/lucyowen/Library/Python/3.6/lib/python/site-packages/ipykernel_launcher.py:5: FutureWarning: Method .as_matrix will be removed in a future version. Use .values instead.\n",
      "  \"\"\"\n"
     ]
    }
   ],
   "source": [
    "conditions = ['intact', 'paragraph', 'word', 'rest']\n",
    "#conditions = ['intact']\n",
    "for e, c in enumerate(conditions):\n",
    "    \n",
    "    ydata = full_data[full_data['condition']==c].groupby('dims')['accuracy'].mean().as_matrix()\n",
    "    xdata = np.array(full_data[full_data['condition']==c].groupby('dims')['accuracy'].mean().index)\n",
    "\n",
    "    popt, pcov = curve_fit(func, xdata, ydata, maxfev=4000)\n",
    "    \n",
    "    f = sp.interpolate.interp1d(xdata, func(xdata, *popt), 'cubic')\n",
    "    y = f(xdata)\n",
    "    \n",
    "    hill_all[e, 0, 0] = xdata[maxima_2(y)].min()\n",
    "    \n",
    "    maxs_all[e, 0, 0] = func(xdata[maxima_2(y)].min(), *popt)\n",
    "    \n",
    "\n",
    "#     plt.plot(xdata, ydata)\n",
    "#     plt.plot(xdata, func(xdata, *popt), 'r-')\n",
    "#     plt.axhline(y=popt[3], color='g', linestyle='-')\n",
    "#     plt.axvline(x=popt[2], color='g', linestyle='-')\n",
    "#     #plt.plot((0, 0), (20, 20*popt[1]), linewidth=4, color='r')\n",
    "#     #plt.line(x=popt[1], y =20, color='g', linestyle='-')\n",
    "#     #plt.axvline(x=popt[0], color='g', linestyle='-')\n",
    "#     plt.show()\n",
    "#     plt.clf()"
   ]
  },
  {
   "cell_type": "code",
   "execution_count": 372,
   "metadata": {},
   "outputs": [
    {
     "data": {
      "text/plain": [
       "0.08972280390656745"
      ]
     },
     "execution_count": 372,
     "metadata": {},
     "output_type": "execute_result"
    }
   ],
   "source": [
    "func(popt[2], *popt)"
   ]
  },
  {
   "cell_type": "code",
   "execution_count": 368,
   "metadata": {},
   "outputs": [
    {
     "data": {
      "text/plain": [
       "7.7946266887653755"
      ]
     },
     "execution_count": 368,
     "metadata": {},
     "output_type": "execute_result"
    }
   ],
   "source": [
    "np.where("
   ]
  },
  {
   "cell_type": "code",
   "execution_count": 379,
   "metadata": {},
   "outputs": [
    {
     "data": {
      "image/png": "[encoded data removed]",
      "text/plain": [
       "<Figure size 432x288 with 1 Axes>"
      ]
     },
     "metadata": {
      "needs_background": "light"
     },
     "output_type": "display_data"
    }
   ],
   "source": [
    "fig = plt.figure()\n",
    "ax = fig.add_subplot(111)\n",
    "colors = sns.color_palette(\"cubehelix\", 4)\n",
    "for e, c in enumerate(conditions):\n",
    "    plt.scatter(hill_all[e, :, 0],maxs_all[e, :, 0], \n",
    "                color=colors[e])\n",
    "\n",
    "#markers=['o', '$1$', '$2$','$3$']\n",
    "# for n in np.arange(len(network_list)):\n",
    "#     for i in np.arange(4):\n",
    "    \n",
    "#         plt.scatter(hill_all[n, i],maxs_all[n, i], \n",
    "#                    marker=markers[i], s=100, color=color_stacked[n])\n"
   ]
  },
  {
   "cell_type": "code",
   "execution_count": 381,
   "metadata": {},
   "outputs": [],
   "source": [
    "resultsdir = '/Users/lucyowen/Desktop/pca_env/pca_paper/pieman/results/pca_decode_chunked/PCA/ndims_100'"
   ]
  },
  {
   "cell_type": "code",
   "execution_count": 382,
   "metadata": {},
   "outputs": [],
   "source": [
    "conds =glob.glob(os.path.join(resultsdir, '*.csv'))"
   ]
  },
  {
   "cell_type": "code",
   "execution_count": 383,
   "metadata": {},
   "outputs": [],
   "source": [
    "full_data = pd.DataFrame()\n",
    "for c in conds:\n",
    "    data = pd.read_csv(c)\n",
    "    data['condition'] = os.path.basename(os.path.splitext(c)[0])\n",
    "\n",
    "    if full_data.empty:\n",
    "        full_data = data\n",
    "    else:\n",
    "        full_data = full_data.append(data)"
   ]
  },
  {
   "cell_type": "code",
   "execution_count": 512,
   "metadata": {},
   "outputs": [
    {
     "data": {
      "text/html": [
       "<div>\n",
       "<style scoped>\n",
       "    .dataframe tbody tr th:only-of-type {\n",
       "        vertical-align: middle;\n",
       "    }\n",
       "\n",
       "    .dataframe tbody tr th {\n",
       "        vertical-align: top;\n",
       "    }\n",
       "\n",
       "    .dataframe thead th {\n",
       "        text-align: right;\n",
       "    }\n",
       "</style>\n",
       "<table border=\"1\" class=\"dataframe\">\n",
       "  <thead>\n",
       "    <tr style=\"text-align: right;\">\n",
       "      <th></th>\n",
       "      <th>Unnamed: 0</th>\n",
       "      <th>rank</th>\n",
       "      <th>accuracy</th>\n",
       "      <th>error</th>\n",
       "      <th>dims</th>\n",
       "      <th>folds</th>\n",
       "      <th>iteration</th>\n",
       "      <th>third</th>\n",
       "      <th>condition</th>\n",
       "    </tr>\n",
       "  </thead>\n",
       "  <tbody>\n",
       "    <tr>\n",
       "      <th>0</th>\n",
       "      <td>0</td>\n",
       "      <td>0.7835</td>\n",
       "      <td>0.01</td>\n",
       "      <td>0.4538</td>\n",
       "      <td>1</td>\n",
       "      <td>0</td>\n",
       "      <td>0</td>\n",
       "      <td>0</td>\n",
       "      <td>intact</td>\n",
       "    </tr>\n",
       "    <tr>\n",
       "      <th>1</th>\n",
       "      <td>0</td>\n",
       "      <td>0.7149</td>\n",
       "      <td>0.03</td>\n",
       "      <td>0.3370</td>\n",
       "      <td>2</td>\n",
       "      <td>0</td>\n",
       "      <td>0</td>\n",
       "      <td>0</td>\n",
       "      <td>intact</td>\n",
       "    </tr>\n",
       "    <tr>\n",
       "      <th>2</th>\n",
       "      <td>0</td>\n",
       "      <td>0.7091</td>\n",
       "      <td>0.03</td>\n",
       "      <td>0.2867</td>\n",
       "      <td>3</td>\n",
       "      <td>0</td>\n",
       "      <td>0</td>\n",
       "      <td>0</td>\n",
       "      <td>intact</td>\n",
       "    </tr>\n",
       "    <tr>\n",
       "      <th>3</th>\n",
       "      <td>0</td>\n",
       "      <td>0.7379</td>\n",
       "      <td>0.04</td>\n",
       "      <td>0.2297</td>\n",
       "      <td>4</td>\n",
       "      <td>0</td>\n",
       "      <td>0</td>\n",
       "      <td>0</td>\n",
       "      <td>intact</td>\n",
       "    </tr>\n",
       "    <tr>\n",
       "      <th>4</th>\n",
       "      <td>0</td>\n",
       "      <td>0.8162</td>\n",
       "      <td>0.07</td>\n",
       "      <td>0.1967</td>\n",
       "      <td>5</td>\n",
       "      <td>0</td>\n",
       "      <td>0</td>\n",
       "      <td>0</td>\n",
       "      <td>intact</td>\n",
       "    </tr>\n",
       "  </tbody>\n",
       "</table>\n",
       "</div>"
      ],
      "text/plain": [
       "   Unnamed: 0    rank  accuracy   error  dims  folds  iteration  third  \\\n",
       "0           0  0.7835      0.01  0.4538     1      0          0      0   \n",
       "1           0  0.7149      0.03  0.3370     2      0          0      0   \n",
       "2           0  0.7091      0.03  0.2867     3      0          0      0   \n",
       "3           0  0.7379      0.04  0.2297     4      0          0      0   \n",
       "4           0  0.8162      0.07  0.1967     5      0          0      0   \n",
       "\n",
       "  condition  \n",
       "0    intact  \n",
       "1    intact  \n",
       "2    intact  \n",
       "3    intact  \n",
       "4    intact  "
      ]
     },
     "execution_count": 512,
     "metadata": {},
     "output_type": "execute_result"
    }
   ],
   "source": [
    "full_data[full_data['condition']=='intact'].head()"
   ]
  },
  {
   "cell_type": "code",
   "execution_count": 537,
   "metadata": {},
   "outputs": [
    {
     "ename": "KeyboardInterrupt",
     "evalue": "",
     "output_type": "error",
     "traceback": [
      "\u001b[0;31m---------------------------------------------------------------------------\u001b[0m",
      "\u001b[0;31mKeyboardInterrupt\u001b[0m                         Traceback (most recent call last)",
      "\u001b[0;32m<ipython-input-537-9ca54c42b48e>\u001b[0m in \u001b[0;36m<module>\u001b[0;34m()\u001b[0m\n\u001b[1;32m      4\u001b[0m     sns.lineplot(x=\"dims\", y=\"accuracy\",\n\u001b[1;32m      5\u001b[0m                  \u001b[0mhue\u001b[0m\u001b[0;34m=\u001b[0m\u001b[0;34m\"condition\"\u001b[0m\u001b[0;34m,\u001b[0m\u001b[0;34m\u001b[0m\u001b[0m\n\u001b[0;32m----> 6\u001b[0;31m                  data=full_data[full_data['third']==i], ax=ax, palette=\"cubehelix\", hue_order=['intact', 'paragraph', 'word', 'rest'])\n\u001b[0m\u001b[1;32m      7\u001b[0m     \u001b[0msns\u001b[0m\u001b[0;34m.\u001b[0m\u001b[0mdespine\u001b[0m\u001b[0;34m(\u001b[0m\u001b[0max\u001b[0m\u001b[0;34m=\u001b[0m\u001b[0max\u001b[0m\u001b[0;34m,\u001b[0m \u001b[0mleft\u001b[0m\u001b[0;34m=\u001b[0m\u001b[0;32mTrue\u001b[0m\u001b[0;34m)\u001b[0m\u001b[0;34m\u001b[0m\u001b[0m\n\u001b[1;32m      8\u001b[0m     \u001b[0;31m#ax.set_title('Accuracy by components for third: ' + str(i + 1))\u001b[0m\u001b[0;34m\u001b[0m\u001b[0;34m\u001b[0m\u001b[0m\n",
      "\u001b[0;32m/usr/local/lib/python3.6/site-packages/seaborn/relational.py\u001b[0m in \u001b[0;36mlineplot\u001b[0;34m(x, y, hue, size, style, data, palette, hue_order, hue_norm, sizes, size_order, size_norm, dashes, markers, style_order, units, estimator, ci, n_boot, sort, err_style, err_kws, legend, ax, **kwargs)\u001b[0m\n\u001b[1;32m   1082\u001b[0m         \u001b[0max\u001b[0m \u001b[0;34m=\u001b[0m \u001b[0mplt\u001b[0m\u001b[0;34m.\u001b[0m\u001b[0mgca\u001b[0m\u001b[0;34m(\u001b[0m\u001b[0;34m)\u001b[0m\u001b[0;34m\u001b[0m\u001b[0m\n\u001b[1;32m   1083\u001b[0m \u001b[0;34m\u001b[0m\u001b[0m\n\u001b[0;32m-> 1084\u001b[0;31m     \u001b[0mp\u001b[0m\u001b[0;34m.\u001b[0m\u001b[0mplot\u001b[0m\u001b[0;34m(\u001b[0m\u001b[0max\u001b[0m\u001b[0;34m,\u001b[0m \u001b[0mkwargs\u001b[0m\u001b[0;34m)\u001b[0m\u001b[0;34m\u001b[0m\u001b[0m\n\u001b[0m\u001b[1;32m   1085\u001b[0m \u001b[0;34m\u001b[0m\u001b[0m\n\u001b[1;32m   1086\u001b[0m     \u001b[0;32mreturn\u001b[0m \u001b[0max\u001b[0m\u001b[0;34m\u001b[0m\u001b[0m\n",
      "\u001b[0;32m/usr/local/lib/python3.6/site-packages/seaborn/relational.py\u001b[0m in \u001b[0;36mplot\u001b[0;34m(self, ax, kws)\u001b[0m\n\u001b[1;32m    773\u001b[0m                     \u001b[0merr\u001b[0m \u001b[0;34m=\u001b[0m \u001b[0;34m\"estimator must be None when specifying units\"\u001b[0m\u001b[0;34m\u001b[0m\u001b[0m\n\u001b[1;32m    774\u001b[0m                     \u001b[0;32mraise\u001b[0m \u001b[0mValueError\u001b[0m\u001b[0;34m(\u001b[0m\u001b[0merr\u001b[0m\u001b[0;34m)\u001b[0m\u001b[0;34m\u001b[0m\u001b[0m\n\u001b[0;32m--> 775\u001b[0;31m                 \u001b[0mx\u001b[0m\u001b[0;34m,\u001b[0m \u001b[0my\u001b[0m\u001b[0;34m,\u001b[0m \u001b[0my_ci\u001b[0m \u001b[0;34m=\u001b[0m \u001b[0mself\u001b[0m\u001b[0;34m.\u001b[0m\u001b[0maggregate\u001b[0m\u001b[0;34m(\u001b[0m\u001b[0my\u001b[0m\u001b[0;34m,\u001b[0m \u001b[0mx\u001b[0m\u001b[0;34m,\u001b[0m \u001b[0munits\u001b[0m\u001b[0;34m)\u001b[0m\u001b[0;34m\u001b[0m\u001b[0m\n\u001b[0m\u001b[1;32m    776\u001b[0m             \u001b[0;32melse\u001b[0m\u001b[0;34m:\u001b[0m\u001b[0;34m\u001b[0m\u001b[0m\n\u001b[1;32m    777\u001b[0m                 \u001b[0my_ci\u001b[0m \u001b[0;34m=\u001b[0m \u001b[0;32mNone\u001b[0m\u001b[0;34m\u001b[0m\u001b[0m\n",
      "\u001b[0;32m/usr/local/lib/python3.6/site-packages/seaborn/relational.py\u001b[0m in \u001b[0;36maggregate\u001b[0;34m(self, vals, grouper, units)\u001b[0m\n\u001b[1;32m    716\u001b[0m                                columns=[\"low\", \"high\"]).stack()\n\u001b[1;32m    717\u001b[0m         \u001b[0;32melse\u001b[0m\u001b[0;34m:\u001b[0m\u001b[0;34m\u001b[0m\u001b[0m\n\u001b[0;32m--> 718\u001b[0;31m             \u001b[0mcis\u001b[0m \u001b[0;34m=\u001b[0m \u001b[0mgrouped\u001b[0m\u001b[0;34m.\u001b[0m\u001b[0mapply\u001b[0m\u001b[0;34m(\u001b[0m\u001b[0mbootstrapped_cis\u001b[0m\u001b[0;34m)\u001b[0m\u001b[0;34m\u001b[0m\u001b[0m\n\u001b[0m\u001b[1;32m    719\u001b[0m \u001b[0;34m\u001b[0m\u001b[0m\n\u001b[1;32m    720\u001b[0m         \u001b[0;31m# Unpack the CIs into \"wide\" format for plotting\u001b[0m\u001b[0;34m\u001b[0m\u001b[0;34m\u001b[0m\u001b[0m\n",
      "\u001b[0;32m/usr/local/lib/python3.6/site-packages/pandas/core/groupby/groupby.py\u001b[0m in \u001b[0;36mapply\u001b[0;34m(self, func, *args, **kwargs)\u001b[0m\n\u001b[1;32m   3467\u001b[0m                       examples=_apply_docs['series_examples']))\n\u001b[1;32m   3468\u001b[0m     \u001b[0;32mdef\u001b[0m \u001b[0mapply\u001b[0m\u001b[0;34m(\u001b[0m\u001b[0mself\u001b[0m\u001b[0;34m,\u001b[0m \u001b[0mfunc\u001b[0m\u001b[0;34m,\u001b[0m \u001b[0;34m*\u001b[0m\u001b[0margs\u001b[0m\u001b[0;34m,\u001b[0m \u001b[0;34m**\u001b[0m\u001b[0mkwargs\u001b[0m\u001b[0;34m)\u001b[0m\u001b[0;34m:\u001b[0m\u001b[0;34m\u001b[0m\u001b[0m\n\u001b[0;32m-> 3469\u001b[0;31m         \u001b[0;32mreturn\u001b[0m \u001b[0msuper\u001b[0m\u001b[0;34m(\u001b[0m\u001b[0mSeriesGroupBy\u001b[0m\u001b[0;34m,\u001b[0m \u001b[0mself\u001b[0m\u001b[0;34m)\u001b[0m\u001b[0;34m.\u001b[0m\u001b[0mapply\u001b[0m\u001b[0;34m(\u001b[0m\u001b[0mfunc\u001b[0m\u001b[0;34m,\u001b[0m \u001b[0;34m*\u001b[0m\u001b[0margs\u001b[0m\u001b[0;34m,\u001b[0m \u001b[0;34m**\u001b[0m\u001b[0mkwargs\u001b[0m\u001b[0;34m)\u001b[0m\u001b[0;34m\u001b[0m\u001b[0m\n\u001b[0m\u001b[1;32m   3470\u001b[0m \u001b[0;34m\u001b[0m\u001b[0m\n\u001b[1;32m   3471\u001b[0m     \u001b[0;34m@\u001b[0m\u001b[0mAppender\u001b[0m\u001b[0;34m(\u001b[0m\u001b[0m_agg_doc\u001b[0m\u001b[0;34m)\u001b[0m\u001b[0;34m\u001b[0m\u001b[0m\n",
      "\u001b[0;32m/usr/local/lib/python3.6/site-packages/pandas/core/groupby/groupby.py\u001b[0m in \u001b[0;36mapply\u001b[0;34m(self, func, *args, **kwargs)\u001b[0m\n\u001b[1;32m    916\u001b[0m         \u001b[0;32mwith\u001b[0m \u001b[0moption_context\u001b[0m\u001b[0;34m(\u001b[0m\u001b[0;34m'mode.chained_assignment'\u001b[0m\u001b[0;34m,\u001b[0m \u001b[0;32mNone\u001b[0m\u001b[0;34m)\u001b[0m\u001b[0;34m:\u001b[0m\u001b[0;34m\u001b[0m\u001b[0m\n\u001b[1;32m    917\u001b[0m             \u001b[0;32mtry\u001b[0m\u001b[0;34m:\u001b[0m\u001b[0;34m\u001b[0m\u001b[0m\n\u001b[0;32m--> 918\u001b[0;31m                 \u001b[0mresult\u001b[0m \u001b[0;34m=\u001b[0m \u001b[0mself\u001b[0m\u001b[0;34m.\u001b[0m\u001b[0m_python_apply_general\u001b[0m\u001b[0;34m(\u001b[0m\u001b[0mf\u001b[0m\u001b[0;34m)\u001b[0m\u001b[0;34m\u001b[0m\u001b[0m\n\u001b[0m\u001b[1;32m    919\u001b[0m             \u001b[0;32mexcept\u001b[0m \u001b[0mException\u001b[0m\u001b[0;34m:\u001b[0m\u001b[0;34m\u001b[0m\u001b[0m\n\u001b[1;32m    920\u001b[0m \u001b[0;34m\u001b[0m\u001b[0m\n",
      "\u001b[0;32m/usr/local/lib/python3.6/site-packages/pandas/core/groupby/groupby.py\u001b[0m in \u001b[0;36m_python_apply_general\u001b[0;34m(self, f)\u001b[0m\n\u001b[1;32m    934\u001b[0m     \u001b[0;32mdef\u001b[0m \u001b[0m_python_apply_general\u001b[0m\u001b[0;34m(\u001b[0m\u001b[0mself\u001b[0m\u001b[0;34m,\u001b[0m \u001b[0mf\u001b[0m\u001b[0;34m)\u001b[0m\u001b[0;34m:\u001b[0m\u001b[0;34m\u001b[0m\u001b[0m\n\u001b[1;32m    935\u001b[0m         keys, values, mutated = self.grouper.apply(f, self._selected_obj,\n\u001b[0;32m--> 936\u001b[0;31m                                                    self.axis)\n\u001b[0m\u001b[1;32m    937\u001b[0m \u001b[0;34m\u001b[0m\u001b[0m\n\u001b[1;32m    938\u001b[0m         return self._wrap_applied_output(\n",
      "\u001b[0;32m/usr/local/lib/python3.6/site-packages/pandas/core/groupby/groupby.py\u001b[0m in \u001b[0;36mapply\u001b[0;34m(self, f, data, axis)\u001b[0m\n\u001b[1;32m   2271\u001b[0m             \u001b[0;31m# group might be modified\u001b[0m\u001b[0;34m\u001b[0m\u001b[0;34m\u001b[0m\u001b[0m\n\u001b[1;32m   2272\u001b[0m             \u001b[0mgroup_axes\u001b[0m \u001b[0;34m=\u001b[0m \u001b[0m_get_axes\u001b[0m\u001b[0;34m(\u001b[0m\u001b[0mgroup\u001b[0m\u001b[0;34m)\u001b[0m\u001b[0;34m\u001b[0m\u001b[0m\n\u001b[0;32m-> 2273\u001b[0;31m             \u001b[0mres\u001b[0m \u001b[0;34m=\u001b[0m \u001b[0mf\u001b[0m\u001b[0;34m(\u001b[0m\u001b[0mgroup\u001b[0m\u001b[0;34m)\u001b[0m\u001b[0;34m\u001b[0m\u001b[0m\n\u001b[0m\u001b[1;32m   2274\u001b[0m             \u001b[0;32mif\u001b[0m \u001b[0;32mnot\u001b[0m \u001b[0m_is_indexed_like\u001b[0m\u001b[0;34m(\u001b[0m\u001b[0mres\u001b[0m\u001b[0;34m,\u001b[0m \u001b[0mgroup_axes\u001b[0m\u001b[0;34m)\u001b[0m\u001b[0;34m:\u001b[0m\u001b[0;34m\u001b[0m\u001b[0m\n\u001b[1;32m   2275\u001b[0m                 \u001b[0mmutated\u001b[0m \u001b[0;34m=\u001b[0m \u001b[0;32mTrue\u001b[0m\u001b[0;34m\u001b[0m\u001b[0m\n",
      "\u001b[0;32m/usr/local/lib/python3.6/site-packages/seaborn/relational.py\u001b[0m in \u001b[0;36mbootstrapped_cis\u001b[0;34m(vals)\u001b[0m\n\u001b[1;32m    697\u001b[0m                 \u001b[0;32mreturn\u001b[0m \u001b[0mnull_ci\u001b[0m\u001b[0;34m\u001b[0m\u001b[0m\n\u001b[1;32m    698\u001b[0m \u001b[0;34m\u001b[0m\u001b[0m\n\u001b[0;32m--> 699\u001b[0;31m             \u001b[0mboots\u001b[0m \u001b[0;34m=\u001b[0m \u001b[0mbootstrap\u001b[0m\u001b[0;34m(\u001b[0m\u001b[0mvals\u001b[0m\u001b[0;34m,\u001b[0m \u001b[0mfunc\u001b[0m\u001b[0;34m=\u001b[0m\u001b[0mfunc\u001b[0m\u001b[0;34m,\u001b[0m \u001b[0mn_boot\u001b[0m\u001b[0;34m=\u001b[0m\u001b[0mn_boot\u001b[0m\u001b[0;34m)\u001b[0m\u001b[0;34m\u001b[0m\u001b[0m\n\u001b[0m\u001b[1;32m    700\u001b[0m             \u001b[0mcis\u001b[0m \u001b[0;34m=\u001b[0m \u001b[0mutils\u001b[0m\u001b[0;34m.\u001b[0m\u001b[0mci\u001b[0m\u001b[0;34m(\u001b[0m\u001b[0mboots\u001b[0m\u001b[0;34m,\u001b[0m \u001b[0mci\u001b[0m\u001b[0;34m)\u001b[0m\u001b[0;34m\u001b[0m\u001b[0m\n\u001b[1;32m    701\u001b[0m             \u001b[0;32mreturn\u001b[0m \u001b[0mpd\u001b[0m\u001b[0;34m.\u001b[0m\u001b[0mSeries\u001b[0m\u001b[0;34m(\u001b[0m\u001b[0mcis\u001b[0m\u001b[0;34m,\u001b[0m \u001b[0;34m[\u001b[0m\u001b[0;34m\"low\"\u001b[0m\u001b[0;34m,\u001b[0m \u001b[0;34m\"high\"\u001b[0m\u001b[0;34m]\u001b[0m\u001b[0;34m)\u001b[0m\u001b[0;34m\u001b[0m\u001b[0m\n",
      "\u001b[0;32m/usr/local/lib/python3.6/site-packages/seaborn/algorithms.py\u001b[0m in \u001b[0;36mbootstrap\u001b[0;34m(*args, **kwargs)\u001b[0m\n\u001b[1;32m     86\u001b[0m         \u001b[0mresampler\u001b[0m \u001b[0;34m=\u001b[0m \u001b[0mrs\u001b[0m\u001b[0;34m.\u001b[0m\u001b[0mrandint\u001b[0m\u001b[0;34m(\u001b[0m\u001b[0;36m0\u001b[0m\u001b[0;34m,\u001b[0m \u001b[0mn\u001b[0m\u001b[0;34m,\u001b[0m \u001b[0mn\u001b[0m\u001b[0;34m)\u001b[0m\u001b[0;34m\u001b[0m\u001b[0m\n\u001b[1;32m     87\u001b[0m         \u001b[0msample\u001b[0m \u001b[0;34m=\u001b[0m \u001b[0;34m[\u001b[0m\u001b[0ma\u001b[0m\u001b[0;34m.\u001b[0m\u001b[0mtake\u001b[0m\u001b[0;34m(\u001b[0m\u001b[0mresampler\u001b[0m\u001b[0;34m,\u001b[0m \u001b[0maxis\u001b[0m\u001b[0;34m=\u001b[0m\u001b[0;36m0\u001b[0m\u001b[0;34m)\u001b[0m \u001b[0;32mfor\u001b[0m \u001b[0ma\u001b[0m \u001b[0;32min\u001b[0m \u001b[0margs\u001b[0m\u001b[0;34m]\u001b[0m\u001b[0;34m\u001b[0m\u001b[0m\n\u001b[0;32m---> 88\u001b[0;31m         \u001b[0mboot_dist\u001b[0m\u001b[0;34m.\u001b[0m\u001b[0mappend\u001b[0m\u001b[0;34m(\u001b[0m\u001b[0mf\u001b[0m\u001b[0;34m(\u001b[0m\u001b[0;34m*\u001b[0m\u001b[0msample\u001b[0m\u001b[0;34m,\u001b[0m \u001b[0;34m**\u001b[0m\u001b[0mfunc_kwargs\u001b[0m\u001b[0;34m)\u001b[0m\u001b[0;34m)\u001b[0m\u001b[0;34m\u001b[0m\u001b[0m\n\u001b[0m\u001b[1;32m     89\u001b[0m     \u001b[0;32mreturn\u001b[0m \u001b[0mnp\u001b[0m\u001b[0;34m.\u001b[0m\u001b[0marray\u001b[0m\u001b[0;34m(\u001b[0m\u001b[0mboot_dist\u001b[0m\u001b[0;34m)\u001b[0m\u001b[0;34m\u001b[0m\u001b[0m\n\u001b[1;32m     90\u001b[0m \u001b[0;34m\u001b[0m\u001b[0m\n",
      "\u001b[0;32m/usr/local/lib/python3.6/site-packages/seaborn/algorithms.py\u001b[0m in \u001b[0;36mf\u001b[0;34m(x)\u001b[0m\n\u001b[1;32m     68\u001b[0m     \u001b[0;32mif\u001b[0m \u001b[0misinstance\u001b[0m\u001b[0;34m(\u001b[0m\u001b[0mfunc\u001b[0m\u001b[0;34m,\u001b[0m \u001b[0mstring_types\u001b[0m\u001b[0;34m)\u001b[0m\u001b[0;34m:\u001b[0m\u001b[0;34m\u001b[0m\u001b[0m\n\u001b[1;32m     69\u001b[0m         \u001b[0;32mdef\u001b[0m \u001b[0mf\u001b[0m\u001b[0;34m(\u001b[0m\u001b[0mx\u001b[0m\u001b[0;34m)\u001b[0m\u001b[0;34m:\u001b[0m\u001b[0;34m\u001b[0m\u001b[0m\n\u001b[0;32m---> 70\u001b[0;31m             \u001b[0;32mreturn\u001b[0m \u001b[0mgetattr\u001b[0m\u001b[0;34m(\u001b[0m\u001b[0mx\u001b[0m\u001b[0;34m,\u001b[0m \u001b[0mfunc\u001b[0m\u001b[0;34m)\u001b[0m\u001b[0;34m(\u001b[0m\u001b[0;34m)\u001b[0m\u001b[0;34m\u001b[0m\u001b[0m\n\u001b[0m\u001b[1;32m     71\u001b[0m     \u001b[0;32melse\u001b[0m\u001b[0;34m:\u001b[0m\u001b[0;34m\u001b[0m\u001b[0m\n\u001b[1;32m     72\u001b[0m         \u001b[0mf\u001b[0m \u001b[0;34m=\u001b[0m \u001b[0mfunc\u001b[0m\u001b[0;34m\u001b[0m\u001b[0m\n",
      "\u001b[0;32m/usr/local/lib/python3.6/site-packages/numpy/core/_methods.py\u001b[0m in \u001b[0;36m_mean\u001b[0;34m(a, axis, dtype, out, keepdims)\u001b[0m\n\u001b[1;32m     55\u001b[0m \u001b[0;34m\u001b[0m\u001b[0m\n\u001b[1;32m     56\u001b[0m     \u001b[0mis_float16_result\u001b[0m \u001b[0;34m=\u001b[0m \u001b[0;32mFalse\u001b[0m\u001b[0;34m\u001b[0m\u001b[0m\n\u001b[0;32m---> 57\u001b[0;31m     \u001b[0mrcount\u001b[0m \u001b[0;34m=\u001b[0m \u001b[0m_count_reduce_items\u001b[0m\u001b[0;34m(\u001b[0m\u001b[0marr\u001b[0m\u001b[0;34m,\u001b[0m \u001b[0maxis\u001b[0m\u001b[0;34m)\u001b[0m\u001b[0;34m\u001b[0m\u001b[0m\n\u001b[0m\u001b[1;32m     58\u001b[0m     \u001b[0;31m# Make this warning show up first\u001b[0m\u001b[0;34m\u001b[0m\u001b[0;34m\u001b[0m\u001b[0m\n\u001b[1;32m     59\u001b[0m     \u001b[0;32mif\u001b[0m \u001b[0mrcount\u001b[0m \u001b[0;34m==\u001b[0m \u001b[0;36m0\u001b[0m\u001b[0;34m:\u001b[0m\u001b[0;34m\u001b[0m\u001b[0m\n",
      "\u001b[0;32m/usr/local/lib/python3.6/site-packages/numpy/core/_methods.py\u001b[0m in \u001b[0;36m_count_reduce_items\u001b[0;34m(arr, axis)\u001b[0m\n\u001b[1;32m     43\u001b[0m \u001b[0;32mdef\u001b[0m \u001b[0m_count_reduce_items\u001b[0m\u001b[0;34m(\u001b[0m\u001b[0marr\u001b[0m\u001b[0;34m,\u001b[0m \u001b[0maxis\u001b[0m\u001b[0;34m)\u001b[0m\u001b[0;34m:\u001b[0m\u001b[0;34m\u001b[0m\u001b[0m\n\u001b[1;32m     44\u001b[0m     \u001b[0;32mif\u001b[0m \u001b[0maxis\u001b[0m \u001b[0;32mis\u001b[0m \u001b[0;32mNone\u001b[0m\u001b[0;34m:\u001b[0m\u001b[0;34m\u001b[0m\u001b[0m\n\u001b[0;32m---> 45\u001b[0;31m         \u001b[0maxis\u001b[0m \u001b[0;34m=\u001b[0m \u001b[0mtuple\u001b[0m\u001b[0;34m(\u001b[0m\u001b[0mrange\u001b[0m\u001b[0;34m(\u001b[0m\u001b[0marr\u001b[0m\u001b[0;34m.\u001b[0m\u001b[0mndim\u001b[0m\u001b[0;34m)\u001b[0m\u001b[0;34m)\u001b[0m\u001b[0;34m\u001b[0m\u001b[0m\n\u001b[0m\u001b[1;32m     46\u001b[0m     \u001b[0;32mif\u001b[0m \u001b[0;32mnot\u001b[0m \u001b[0misinstance\u001b[0m\u001b[0;34m(\u001b[0m\u001b[0maxis\u001b[0m\u001b[0;34m,\u001b[0m \u001b[0mtuple\u001b[0m\u001b[0;34m)\u001b[0m\u001b[0;34m:\u001b[0m\u001b[0;34m\u001b[0m\u001b[0m\n\u001b[1;32m     47\u001b[0m         \u001b[0maxis\u001b[0m \u001b[0;34m=\u001b[0m \u001b[0;34m(\u001b[0m\u001b[0maxis\u001b[0m\u001b[0;34m,\u001b[0m\u001b[0;34m)\u001b[0m\u001b[0;34m\u001b[0m\u001b[0m\n",
      "\u001b[0;31mKeyboardInterrupt\u001b[0m: "
     ]
    },
    {
     "data": {
      "image/png": "[encoded data removed]",
      "text/plain": [
       "<Figure size 432x288 with 1 Axes>"
      ]
     },
     "metadata": {
      "needs_background": "light"
     },
     "output_type": "display_data"
    },
    {
     "data": {
      "image/png": "[encoded data removed]",
      "text/plain": [
       "<Figure size 432x288 with 1 Axes>"
      ]
     },
     "metadata": {
      "needs_background": "light"
     },
     "output_type": "display_data"
    },
    {
     "data": {
      "image/png": "[encoded data removed]",
      "text/plain": [
       "<Figure size 432x288 with 1 Axes>"
      ]
     },
     "metadata": {
      "needs_background": "light"
     },
     "output_type": "display_data"
    }
   ],
   "source": [
    "for i in range(3):\n",
    "    outfile = os.path.join(figdir, 'Accuracy_by_components_third_' + str(i) + '.pdf')\n",
    "    fig, ax = plt.subplots()\n",
    "    sns.lineplot(x=\"dims\", y=\"accuracy\",\n",
    "                 hue=\"condition\",\n",
    "                 data=full_data[full_data['third']==i], ax=ax, palette=\"cubehelix\", hue_order=['intact', 'paragraph', 'word', 'rest'])\n",
    "    sns.despine(ax=ax, left=True)\n",
    "    #ax.set_title('Accuracy by components for third: ' + str(i + 1))\n",
    "    ax.set_ylabel('Decoding accuracy',fontsize=24)\n",
    "    ax.set_xlabel('Number of components',fontsize=24)\n",
    "    ax.set_ylim(0, .25)\n",
    "    ax.hlines(y=1/100, xmin=0, xmax=100, linewidth=2, color='r')\n",
    "    l = ax.legend(loc='center right', bbox_to_anchor=(1.75, 0.75), ncol=1,fontsize=24)\n",
    "    for line in l.get_lines():\n",
    "        line.set_linewidth(4.0)\n",
    "    fig.savefig(outfile, bbox_inches='tight')\n",
    "    "
   ]
  },
  {
   "cell_type": "code",
   "execution_count": 384,
   "metadata": {},
   "outputs": [
    {
     "name": "stderr",
     "output_type": "stream",
     "text": [
      "/Users/lucyowen/Library/Python/3.6/lib/python/site-packages/ipykernel_launcher.py:10: FutureWarning: Method .as_matrix will be removed in a future version. Use .values instead.\n",
      "  # Remove the CWD from sys.path while we load stuff.\n"
     ]
    }
   ],
   "source": [
    "conditions = ['intact', 'paragraph', 'word', 'rest']\n",
    "\n",
    "for i in np.arange(1, 4):\n",
    "    \n",
    "    full_data_temp = full_data[full_data['third']==i-1]\n",
    "\n",
    "    for e, c in enumerate(conditions):\n",
    "\n",
    "\n",
    "        ydata = full_data_temp[full_data_temp['condition']==c].groupby('dims')['accuracy'].mean().as_matrix()\n",
    "        xdata = np.array(full_data_temp[full_data_temp['condition']==c].groupby('dims')['accuracy'].mean().index)\n",
    "\n",
    "        popt, pcov = curve_fit(func, xdata, ydata, maxfev=4000)\n",
    "\n",
    "        f = sp.interpolate.interp1d(xdata, func(xdata, *popt), 'cubic')\n",
    "        y = f(xdata)\n",
    "\n",
    "        hill_all[e, 0, i] = xdata[maxima_2(y)].min()\n",
    "\n",
    "        maxs_all[e, 0, i] = func(xdata[maxima_2(y)].min(), *popt)\n"
   ]
  },
  {
   "cell_type": "code",
   "execution_count": 513,
   "metadata": {},
   "outputs": [
    {
     "name": "stderr",
     "output_type": "stream",
     "text": [
      "/Users/lucyowen/Library/Python/3.6/lib/python/site-packages/ipykernel_launcher.py:10: FutureWarning: Method .as_matrix will be removed in a future version. Use .values instead.\n",
      "  # Remove the CWD from sys.path while we load stuff.\n"
     ]
    }
   ],
   "source": [
    "# conditions = ['intact', 'paragraph', 'word', 'rest']\n",
    "\n",
    "# for i in np.arange(1, 4):\n",
    "    \n",
    "#     full_data_temp = full_data[full_data['third']==i-1]\n",
    "\n",
    "#     for e, c in enumerate(conditions):\n",
    "\n",
    "\n",
    "#         ydata = full_data_temp[full_data_temp['condition']==c].groupby('dims')['accuracy'].mean().as_matrix()\n",
    "#         xdata = np.array(full_data_temp[full_data_temp['condition']==c].groupby('dims')['accuracy'].mean().index)\n",
    "\n",
    "#         popt, pcov = curve_fit(func, xdata, ydata, maxfev=4000)\n",
    "\n",
    "#         hill_all[e, 0, i] = popt[1]\n",
    "\n",
    "#         maxs_all[e, 0, i] = ydata.max()\n"
   ]
  },
  {
   "cell_type": "code",
   "execution_count": 528,
   "metadata": {},
   "outputs": [],
   "source": [
    "# try_it = maxs_all/hill_all"
   ]
  },
  {
   "cell_type": "code",
   "execution_count": 385,
   "metadata": {},
   "outputs": [
    {
     "data": {
      "image/png": "[encoded data removed]",
      "text/plain": [
       "<Figure size 432x288 with 1 Axes>"
      ]
     },
     "metadata": {
      "needs_background": "light"
     },
     "output_type": "display_data"
    }
   ],
   "source": [
    "fig = plt.figure()\n",
    "ax = fig.add_subplot(111)\n",
    "markers=['o', '$1$', '$2$','$3$']\n",
    "colors = sns.color_palette(\"cubehelix\", 4)\n",
    "for e, c in enumerate(conditions):\n",
    "    for i in np.arange(4):\n",
    "        plt.scatter(hill_all[e, :, i],maxs_all[e, :, i], \n",
    "                    marker=markers[i], color=colors[e])\n",
    "\n",
    "#markers=['o', '$1$', '$2$','$3$']\n",
    "# for n in np.arange(len(network_list)):\n",
    "#     for i in np.arange(4):\n",
    "    \n",
    "#         plt.scatter(hill_all[n, i],maxs_all[n, i], \n",
    "#                    marker=markers[i], s=100, color=color_stacked[n])\n"
   ]
  },
  {
   "cell_type": "code",
   "execution_count": 530,
   "metadata": {},
   "outputs": [
    {
     "data": {
      "image/png": "[encoded data removed]",
      "text/plain": [
       "<Figure size 432x288 with 1 Axes>"
      ]
     },
     "metadata": {
      "needs_background": "light"
     },
     "output_type": "display_data"
    }
   ],
   "source": [
    "fig = plt.figure()\n",
    "ax = fig.add_subplot(111)\n",
    "markers=['o', '$1$', '$2$','$3$']\n",
    "colors = sns.color_palette(\"cubehelix\", 4)\n",
    "for e, c in enumerate(conditions):\n",
    "    for i in np.arange(4):\n",
    "        plt.scatter(try_it[e, :, i],maxs_all[e, :, i], \n",
    "                    marker=markers[i], color=colors[e])\n",
    "\n",
    "#markers=['o', '$1$', '$2$','$3$']\n",
    "# for n in np.arange(len(network_list)):\n",
    "#     for i in np.arange(4):\n",
    "    \n",
    "#         plt.scatter(hill_all[n, i],maxs_all[n, i], \n",
    "#                    marker=markers[i], s=100, color=color_stacked[n])\n"
   ]
  },
  {
   "cell_type": "code",
   "execution_count": 428,
   "metadata": {},
   "outputs": [
    {
     "name": "stdout",
     "output_type": "stream",
     "text": [
      "[0.18125]\n",
      "[0.18125, 0.19034999999999996]\n",
      "[0.18125, 0.19034999999999996, 0.19385000000000008]\n"
     ]
    },
    {
     "name": "stderr",
     "output_type": "stream",
     "text": [
      "/Users/lucyowen/Library/Python/3.6/lib/python/site-packages/ipykernel_launcher.py:8: FutureWarning: Method .as_matrix will be removed in a future version. Use .values instead.\n",
      "  \n",
      "/Users/lucyowen/Library/Python/3.6/lib/python/site-packages/ipykernel_launcher.py:18: FutureWarning: Method .as_matrix will be removed in a future version. Use .values instead.\n",
      "/Users/lucyowen/Library/Python/3.6/lib/python/site-packages/ipykernel_launcher.py:19: FutureWarning: Method .as_matrix will be removed in a future version. Use .values instead.\n",
      "/Users/lucyowen/Library/Python/3.6/lib/python/site-packages/ipykernel_launcher.py:20: FutureWarning: Method .as_matrix will be removed in a future version. Use .values instead.\n"
     ]
    }
   ],
   "source": [
    "# hill = []\n",
    "# maxs = []\n",
    "# spearmans = []\n",
    "\n",
    "for i in range(3):\n",
    "    full_data_temp = full_data[full_data['third']==i]\n",
    "\n",
    "    ydata = full_data_temp[full_data_temp['condition']=='intact'].groupby('dims')['accuracy'].mean().as_matrix()\n",
    "    xdata = np.array(full_data_temp[full_data_temp['condition']=='intact'].groupby('dims')['accuracy'].mean().index)\n",
    "\n",
    "    popt, pcov = curve_fit(func, xdata, ydata)\n",
    "    hill.append(popt[1])\n",
    "    max_i = ydata.max()\n",
    "    print(maxs)\n",
    "    maxs.append(max_i)\n",
    "    max_loc = np.where(ydata==max_i)[0][0]\n",
    "\n",
    "    max_p = full_data_temp[full_data_temp['condition']=='paragraph'].groupby('dims')['accuracy'].mean().as_matrix()[max_loc]\n",
    "    max_w = full_data_temp[full_data_temp['condition']=='word'].groupby('dims')['accuracy'].mean().as_matrix()[max_loc]\n",
    "    max_r = full_data_temp[full_data_temp['condition']=='rest'].groupby('dims')['accuracy'].mean().as_matrix()[max_loc]\n",
    "\n",
    "\n",
    "    spearmans.append(spearmanr([4,3,2,1],[max_i,max_p,max_w,max_r])[0])\n"
   ]
  },
  {
   "cell_type": "code",
   "execution_count": 429,
   "metadata": {},
   "outputs": [
    {
     "data": {
      "text/plain": [
       "[0.18125, 0.19034999999999996, 0.19385000000000008, 0.21135000000000012]"
      ]
     },
     "execution_count": 429,
     "metadata": {},
     "output_type": "execute_result"
    }
   ],
   "source": [
    "maxs"
   ]
  },
  {
   "cell_type": "code",
   "execution_count": 456,
   "metadata": {},
   "outputs": [
    {
     "data": {
      "image/png": "[encoded data removed]",
      "text/plain": [
       "<Figure size 432x288 with 1 Axes>"
      ]
     },
     "metadata": {
      "needs_background": "light"
     },
     "output_type": "display_data"
    }
   ],
   "source": [
    "fig = plt.figure()\n",
    "ax = fig.add_subplot(111, projection='3d')\n",
    "markers=['o', '$1$', '$2$','$3$']\n",
    "\n",
    "ax.plot(hill[1:],maxs[1:],spearmans[1:],'x-', color='black')\n",
    "\n",
    "for e, m in enumerate(markers):\n",
    "    \n",
    "    ax.scatter(hill[e],maxs[e],spearmans[e], marker=m, s=60, color='black')\n"
   ]
  },
  {
   "cell_type": "code",
   "execution_count": 457,
   "metadata": {},
   "outputs": [],
   "source": [
    "from mpl_toolkits.mplot3d import axes3d\n",
    "from mpl_toolkits.mplot3d.art3d import Poly3DCollection"
   ]
  },
  {
   "cell_type": "code",
   "execution_count": 463,
   "metadata": {},
   "outputs": [
    {
     "data": {
      "image/png": "[encoded data removed]",
      "text/plain": [
       "<Figure size 720x360 with 1 Axes>"
      ]
     },
     "metadata": {
      "needs_background": "light"
     },
     "output_type": "display_data"
    }
   ],
   "source": [
    "markers=['o', '$1$', '$2$','$3$']\n",
    "\n",
    "plt.figure('SPLTV',figsize=(10,5))\n",
    "\n",
    "custom=plt.subplot(121,projection='3d')\n",
    "\n",
    "#custom.plot(hill[1:],maxs[1:],spearmans[1:],'x-', color='black')\n",
    "\n",
    "for e, m in enumerate(markers):\n",
    "    \n",
    "    custom.scatter(hill[e],maxs[e],spearmans[e], marker=m, s=60, color='black')\n",
    "    \n",
    "\n",
    "#custom.scatter(hill, maxs, spearmans)\n",
    "# 1. create vertices from points\n",
    "verts = [list(zip(hill, maxs, spearmans))]\n",
    "# 2. create 3d polygons and specify parameters\n",
    "srf = Poly3DCollection(verts, alpha=.25, facecolor='black')\n",
    "# 3. add polygon to the figure (current axes)\n",
    "plt.gca().add_collection3d(srf)"
   ]
  },
  {
   "cell_type": "code",
   "execution_count": 438,
   "metadata": {},
   "outputs": [
    {
     "data": {
      "text/plain": [
       "<mpl_toolkits.mplot3d.art3d.Path3DCollection at 0x128649f98>"
      ]
     },
     "execution_count": 438,
     "metadata": {},
     "output_type": "execute_result"
    },
    {
     "data": {
      "image/png": "[encoded data removed]",
      "text/plain": [
       "<Figure size 432x288 with 1 Axes>"
      ]
     },
     "metadata": {
      "needs_background": "light"
     },
     "output_type": "display_data"
    }
   ],
   "source": [
    "fig = plt.figure()\n",
    "ax = fig.add_subplot(111, projection='3d')\n",
    "markers=['o', '*', '+','v']\n",
    "\n",
    "for e, m in enumerate(markers):\n",
    "    \n",
    "    ax.scatter(hill[e],maxs[e],spearmans[e], marker=m)\n",
    "    \n",
    "xflat = np.full_like(hill, min(ax.get_xlim()))\n",
    "yflat = np.full_like(maxs, max(ax.get_ylim()))\n",
    "zflat = np.full_like(spearmans, min(ax.get_zlim()))\n",
    "\n",
    "ax.scatter(xflat, maxs, spearmans, color='gray')\n",
    "ax.scatter(hill, yflat, spearmans, color='gray')\n",
    "ax.scatter(hill, maxs, zflat, color='gray')"
   ]
  },
  {
   "cell_type": "code",
   "execution_count": 39,
   "metadata": {},
   "outputs": [],
   "source": [
    "data_regression = full_data.groupby(['iteration', 'folds', 'condition', 'dims'], \n",
    "                           group_keys=False).apply(regress, 'accuracy', ['third']).reset_index()"
   ]
  },
  {
   "cell_type": "code",
   "execution_count": 40,
   "metadata": {},
   "outputs": [
    {
     "data": {
      "image/png": "[encoded data removed]",
      "text/plain": [
       "<Figure size 432x288 with 1 Axes>"
      ]
     },
     "metadata": {
      "needs_background": "light"
     },
     "output_type": "display_data"
    }
   ],
   "source": [
    "outfile = os.path.join(figdir, 'Changes_across_thirds.pdf')\n",
    "\n",
    "fig, ax = plt.subplots()\n",
    "sns.lineplot(x=\"dims\", y=\"third\",\n",
    "             hue=\"condition\",\n",
    "             data=data_regression, palette=\"cubehelix\", \n",
    "           hue_order=['intact', 'paragraph', 'word', 'rest'])\n",
    "sns.despine(ax=ax, left=True)\n",
    "#ax.set_title('Accuracy by components for third: ' + str(i + 1))\n",
    "ax.set_ylabel('Change in accuracy',fontsize=24)\n",
    "ax.set_xlabel('Number of components',fontsize=24)\n",
    "\n",
    "l = ax.legend(loc='center right', bbox_to_anchor=(1.75, 0.75), ncol=1,fontsize=24)\n",
    "for line in l.get_lines():\n",
    "    line.set_linewidth(4.0)\n",
    "fig.savefig(outfile, bbox_inches='tight')"
   ]
  },
  {
   "cell_type": "code",
   "execution_count": null,
   "metadata": {},
   "outputs": [],
   "source": []
  }
 ],
 "metadata": {
  "kernelspec": {
   "display_name": "Python 3",
   "language": "python",
   "name": "python3"
  },
  "language_info": {
   "codemirror_mode": {
    "name": "ipython",
    "version": 3
   },
   "file_extension": ".py",
   "mimetype": "text/x-python",
   "name": "python",
   "nbconvert_exporter": "python",
   "pygments_lexer": "ipython3",
   "version": "3.6.5"
  }
 },
 "nbformat": 4,
 "nbformat_minor": 2
}
