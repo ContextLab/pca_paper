{
 "cells": [
  {
   "cell_type": "code",
   "execution_count": 1,
   "metadata": {},
   "outputs": [],
   "source": [
    "try:\n",
    "    import davos\n",
    "except ImportError:\n",
    "    %pip install davos\n",
    "    import davos\n",
    "\n",
    "davos.config.suppress_stdout = True"
   ]
  },
  {
   "cell_type": "code",
   "execution_count": 2,
   "metadata": {},
   "outputs": [],
   "source": [
    "smuggle nltools as nlt            # pip: nltools==0.4.7\n",
    "\n",
    "smuggle nilearn as nl             # pip: nilearn==0.10.0\n",
    "smuggle nibabel as nib            # pip: nibabel==5.0.1\n",
    "\n",
    "smuggle datawrangler as dw        # pip: pydata-wrangler==0.2.2\n",
    "\n",
    "smuggle numpy as np               # pip: numpy==1.24.2\n",
    "smuggle matplotlib.pyplot as plt  # pip: matplotlib==3.7.0\n",
    "smuggle matplotlib as mpl\n",
    "from matplotlib.colors smuggle ListedColormap, hex2color, rgb2hex\n",
    "from matplotlib.ticker smuggle FormatStrFormatter\n",
    "from matplotlib.lines import Line2D\n",
    "smuggle matplotlib\n",
    "from matplotlib smuggle rc\n",
    "\n",
    "smuggle pandas as pd              # pip: pandas==1.5.3\n",
    "smuggle seaborn as sns            # pip: seaborn==0.12.2\n",
    "from skimage smuggle transform    # pip: scikit-image==0.20.0\n",
    "\n",
    "from sklearn.decomposition smuggle IncrementalPCA as PCA     # pip: scikit-learn==1.2.1\n",
    "from scipy.spatial.distance smuggle pdist, squareform        # pip: scipy==1.10.1\n",
    "from scipy.io smuggle loadmat\n",
    "from scipy.stats smuggle spearmanr, pearsonr, ttest_ind, ttest_1samp\n",
    "from tqdm smuggle tqdm            # pip: tqdm==4.64.1\n",
    "smuggle jinja2 as j2              # pip: jinja2==3.1.2\n",
    "smuggle networkx as nx            # pip: networkx==3.0\n",
    "\n",
    "from sklearn.linear_model smuggle LinearRegression           # pip: scikit-learn==1.2.1\n",
    "from statsmodels.stats.multitest smuggle multipletests       # pip: statsmodels==0.14.0\n",
    "\n",
    "smuggle requests                  # pip: requests==2.28.2\n",
    "\n",
    "from datetime import datetime as dt\n",
    "import os\n",
    "import shutil\n",
    "import pickle\n",
    "import warnings\n",
    "from glob import glob as lsdir\n",
    "\n",
    "from helpers import nii2cmu, cmu2nii, conditions, condition_colors, figdir, basedir, datadir, scratch_dir, group_pca, get_data, rbf, pstring\n",
    "\n",
    "# set random seed\n",
    "np.random.seed(123)"
   ]
  },
  {
   "cell_type": "markdown",
   "metadata": {},
   "source": [
    "Fetch/load the HTFA posterior"
   ]
  },
  {
   "cell_type": "code",
   "execution_count": 3,
   "metadata": {},
   "outputs": [],
   "source": [
    "data = get_data()"
   ]
  },
  {
   "cell_type": "markdown",
   "metadata": {},
   "source": [
    "Compute temporal autocorrelations for each participant/condition as a function of lag"
   ]
  },
  {
   "cell_type": "code",
   "execution_count": 4,
   "metadata": {},
   "outputs": [],
   "source": [
    "def r2z(r):\n",
    "    return np.arctanh(r)\n",
    "\n",
    "def z2r(z):\n",
    "    return np.tanh(z)\n",
    "\n",
    "def autocorrelation(M, axis=0, lag=1):\n",
    "    def helper(x, lag):\n",
    "        return np.corrcoef(x[:-lag], x[lag:])[0, 1]\n",
    "\n",
    "    return np.apply_along_axis(helper, axis, M, lag=lag)"
   ]
  },
  {
   "cell_type": "code",
   "execution_count": 5,
   "metadata": {},
   "outputs": [],
   "source": [
    "temporal_autocorrelations_fname = os.path.join(scratch_dir, 'temporal_autocorrelations.pkl')\n",
    "if os.path.exists(temporal_autocorrelations_fname):\n",
    "    with open(temporal_autocorrelations_fname, 'rb') as f:\n",
    "        temporal_autocorrelations = pickle.load(f)\n",
    "else:\n",
    "    temporal_autocorrelations = []\n",
    "    for condition in data['weights'].keys():\n",
    "        cdata = data['weights'][condition]\n",
    "        for subj in tqdm(range(len(cdata))):\n",
    "            for lag in range(1, np.min([cdata[subj].shape[0] - 2, 100])):\n",
    "                with warnings.catch_warnings():\n",
    "                    warnings.simplefilter(\"ignore\")\n",
    "                    temporal_autocorrelations.append(pd.DataFrame.from_records([{\n",
    "                        'Condition': condition,\n",
    "                        'Participant ID': subj,\n",
    "                        'Lag': lag,\n",
    "                        'Temporal autocorrelation': z2r(np.mean(r2z(autocorrelation(cdata[subj], axis=0, lag=lag)))) # axis=0 computes autocorrelation for each node\n",
    "                    }]))\n",
    "\n",
    "    temporal_autocorrelations = pd.concat(temporal_autocorrelations, axis=0, ignore_index=True)\n",
    "    with open(temporal_autocorrelations_fname, 'wb') as f:\n",
    "        pickle.dump(temporal_autocorrelations, f)"
   ]
  },
  {
   "cell_type": "code",
   "execution_count": 6,
   "metadata": {},
   "outputs": [
    {
     "data": {
      "text/html": [
       "<div>\n",
       "<style scoped>\n",
       "    .dataframe tbody tr th:only-of-type {\n",
       "        vertical-align: middle;\n",
       "    }\n",
       "\n",
       "    .dataframe tbody tr th {\n",
       "        vertical-align: top;\n",
       "    }\n",
       "\n",
       "    .dataframe thead th {\n",
       "        text-align: right;\n",
       "    }\n",
       "</style>\n",
       "<table border=\"1\" class=\"dataframe\">\n",
       "  <thead>\n",
       "    <tr style=\"text-align: right;\">\n",
       "      <th></th>\n",
       "      <th>Condition</th>\n",
       "      <th>Participant ID</th>\n",
       "      <th>Lag</th>\n",
       "      <th>Temporal autocorrelation</th>\n",
       "    </tr>\n",
       "  </thead>\n",
       "  <tbody>\n",
       "    <tr>\n",
       "      <th>0</th>\n",
       "      <td>intact</td>\n",
       "      <td>0</td>\n",
       "      <td>1</td>\n",
       "      <td>0.499943</td>\n",
       "    </tr>\n",
       "    <tr>\n",
       "      <th>1</th>\n",
       "      <td>intact</td>\n",
       "      <td>0</td>\n",
       "      <td>2</td>\n",
       "      <td>0.327606</td>\n",
       "    </tr>\n",
       "    <tr>\n",
       "      <th>2</th>\n",
       "      <td>intact</td>\n",
       "      <td>0</td>\n",
       "      <td>3</td>\n",
       "      <td>0.191101</td>\n",
       "    </tr>\n",
       "    <tr>\n",
       "      <th>3</th>\n",
       "      <td>intact</td>\n",
       "      <td>0</td>\n",
       "      <td>4</td>\n",
       "      <td>0.090312</td>\n",
       "    </tr>\n",
       "    <tr>\n",
       "      <th>4</th>\n",
       "      <td>intact</td>\n",
       "      <td>0</td>\n",
       "      <td>5</td>\n",
       "      <td>0.072966</td>\n",
       "    </tr>\n",
       "    <tr>\n",
       "      <th>...</th>\n",
       "      <td>...</td>\n",
       "      <td>...</td>\n",
       "      <td>...</td>\n",
       "      <td>...</td>\n",
       "    </tr>\n",
       "    <tr>\n",
       "      <th>12370</th>\n",
       "      <td>rest</td>\n",
       "      <td>35</td>\n",
       "      <td>95</td>\n",
       "      <td>0.002097</td>\n",
       "    </tr>\n",
       "    <tr>\n",
       "      <th>12371</th>\n",
       "      <td>rest</td>\n",
       "      <td>35</td>\n",
       "      <td>96</td>\n",
       "      <td>0.008456</td>\n",
       "    </tr>\n",
       "    <tr>\n",
       "      <th>12372</th>\n",
       "      <td>rest</td>\n",
       "      <td>35</td>\n",
       "      <td>97</td>\n",
       "      <td>0.008101</td>\n",
       "    </tr>\n",
       "    <tr>\n",
       "      <th>12373</th>\n",
       "      <td>rest</td>\n",
       "      <td>35</td>\n",
       "      <td>98</td>\n",
       "      <td>0.002317</td>\n",
       "    </tr>\n",
       "    <tr>\n",
       "      <th>12374</th>\n",
       "      <td>rest</td>\n",
       "      <td>35</td>\n",
       "      <td>99</td>\n",
       "      <td>0.013966</td>\n",
       "    </tr>\n",
       "  </tbody>\n",
       "</table>\n",
       "<p>12375 rows × 4 columns</p>\n",
       "</div>"
      ],
      "text/plain": [
       "      Condition  Participant ID  Lag  Temporal autocorrelation\n",
       "0        intact               0    1                  0.499943\n",
       "1        intact               0    2                  0.327606\n",
       "2        intact               0    3                  0.191101\n",
       "3        intact               0    4                  0.090312\n",
       "4        intact               0    5                  0.072966\n",
       "...         ...             ...  ...                       ...\n",
       "12370      rest              35   95                  0.002097\n",
       "12371      rest              35   96                  0.008456\n",
       "12372      rest              35   97                  0.008101\n",
       "12373      rest              35   98                  0.002317\n",
       "12374      rest              35   99                  0.013966\n",
       "\n",
       "[12375 rows x 4 columns]"
      ]
     },
     "execution_count": 6,
     "metadata": {},
     "output_type": "execute_result"
    }
   ],
   "source": [
    "temporal_autocorrelations"
   ]
  },
  {
   "cell_type": "code",
   "execution_count": 7,
   "metadata": {},
   "outputs": [
    {
     "data": {
      "image/png": "[encoded data removed]",
      "text/plain": [
       "<Figure size 432x288 with 1 Axes>"
      ]
     },
     "metadata": {
      "needs_background": "light"
     },
     "output_type": "display_data"
    }
   ],
   "source": [
    "sns.lineplot(temporal_autocorrelations, x='Lag', y='Temporal autocorrelation', hue='Condition', palette=condition_colors, legend=False)\n",
    "ylim = plt.gca().get_ylim()\n",
    "plt.plot([1, 1], ylim, '-', color='darkgray', lw=2)\n",
    "plt.ylim(ylim)\n",
    "\n",
    "plt.xlabel('Lag (TRs)', fontsize=14)\n",
    "plt.ylabel('Temporal autocorrelation', fontsize=14)\n",
    "sns.despine(top=True, right=True)\n",
    "\n",
    "plt.savefig(os.path.join(figdir, 'temporal_autocorrelations.pdf'), bbox_inches='tight')"
   ]
  },
  {
   "cell_type": "markdown",
   "metadata": {},
   "source": [
    "Lag 0 only"
   ]
  },
  {
   "cell_type": "code",
   "execution_count": 8,
   "metadata": {},
   "outputs": [
    {
     "data": {
      "text/html": [
       "<div>\n",
       "<style scoped>\n",
       "    .dataframe tbody tr th:only-of-type {\n",
       "        vertical-align: middle;\n",
       "    }\n",
       "\n",
       "    .dataframe tbody tr th {\n",
       "        vertical-align: top;\n",
       "    }\n",
       "\n",
       "    .dataframe thead th {\n",
       "        text-align: right;\n",
       "    }\n",
       "</style>\n",
       "<table border=\"1\" class=\"dataframe\">\n",
       "  <thead>\n",
       "    <tr style=\"text-align: right;\">\n",
       "      <th></th>\n",
       "      <th>Condition</th>\n",
       "      <th>Participant ID</th>\n",
       "      <th>Lag</th>\n",
       "      <th>Temporal autocorrelation</th>\n",
       "    </tr>\n",
       "  </thead>\n",
       "  <tbody>\n",
       "    <tr>\n",
       "      <th>0</th>\n",
       "      <td>intact</td>\n",
       "      <td>0</td>\n",
       "      <td>1</td>\n",
       "      <td>0.499943</td>\n",
       "    </tr>\n",
       "    <tr>\n",
       "      <th>99</th>\n",
       "      <td>intact</td>\n",
       "      <td>1</td>\n",
       "      <td>1</td>\n",
       "      <td>0.637069</td>\n",
       "    </tr>\n",
       "    <tr>\n",
       "      <th>198</th>\n",
       "      <td>intact</td>\n",
       "      <td>2</td>\n",
       "      <td>1</td>\n",
       "      <td>0.705697</td>\n",
       "    </tr>\n",
       "    <tr>\n",
       "      <th>297</th>\n",
       "      <td>intact</td>\n",
       "      <td>3</td>\n",
       "      <td>1</td>\n",
       "      <td>0.585176</td>\n",
       "    </tr>\n",
       "    <tr>\n",
       "      <th>396</th>\n",
       "      <td>intact</td>\n",
       "      <td>4</td>\n",
       "      <td>1</td>\n",
       "      <td>NaN</td>\n",
       "    </tr>\n",
       "    <tr>\n",
       "      <th>...</th>\n",
       "      <td>...</td>\n",
       "      <td>...</td>\n",
       "      <td>...</td>\n",
       "      <td>...</td>\n",
       "    </tr>\n",
       "    <tr>\n",
       "      <th>11880</th>\n",
       "      <td>rest</td>\n",
       "      <td>31</td>\n",
       "      <td>1</td>\n",
       "      <td>0.615159</td>\n",
       "    </tr>\n",
       "    <tr>\n",
       "      <th>11979</th>\n",
       "      <td>rest</td>\n",
       "      <td>32</td>\n",
       "      <td>1</td>\n",
       "      <td>0.529038</td>\n",
       "    </tr>\n",
       "    <tr>\n",
       "      <th>12078</th>\n",
       "      <td>rest</td>\n",
       "      <td>33</td>\n",
       "      <td>1</td>\n",
       "      <td>NaN</td>\n",
       "    </tr>\n",
       "    <tr>\n",
       "      <th>12177</th>\n",
       "      <td>rest</td>\n",
       "      <td>34</td>\n",
       "      <td>1</td>\n",
       "      <td>NaN</td>\n",
       "    </tr>\n",
       "    <tr>\n",
       "      <th>12276</th>\n",
       "      <td>rest</td>\n",
       "      <td>35</td>\n",
       "      <td>1</td>\n",
       "      <td>0.575447</td>\n",
       "    </tr>\n",
       "  </tbody>\n",
       "</table>\n",
       "<p>125 rows × 4 columns</p>\n",
       "</div>"
      ],
      "text/plain": [
       "      Condition  Participant ID  Lag  Temporal autocorrelation\n",
       "0        intact               0    1                  0.499943\n",
       "99       intact               1    1                  0.637069\n",
       "198      intact               2    1                  0.705697\n",
       "297      intact               3    1                  0.585176\n",
       "396      intact               4    1                       NaN\n",
       "...         ...             ...  ...                       ...\n",
       "11880      rest              31    1                  0.615159\n",
       "11979      rest              32    1                  0.529038\n",
       "12078      rest              33    1                       NaN\n",
       "12177      rest              34    1                       NaN\n",
       "12276      rest              35    1                  0.575447\n",
       "\n",
       "[125 rows x 4 columns]"
      ]
     },
     "execution_count": 8,
     "metadata": {},
     "output_type": "execute_result"
    }
   ],
   "source": [
    "temporal_autocorrelations.query('Lag == 1')"
   ]
  },
  {
   "cell_type": "code",
   "execution_count": 9,
   "metadata": {},
   "outputs": [
    {
     "data": {
      "image/png": "[encoded data removed]",
      "text/plain": [
       "<Figure size 72x72 with 1 Axes>"
      ]
     },
     "metadata": {
      "needs_background": "light"
     },
     "output_type": "display_data"
    }
   ],
   "source": [
    "plt.figure(figsize=(1, 1))\n",
    "sns.barplot(temporal_autocorrelations.query('Lag == 1'), x='Condition', y='Temporal autocorrelation', palette=condition_colors)\n",
    "plt.gca().set_xticklabels(['' for _ in plt.gca().get_xticklabels()])\n",
    "\n",
    "plt.xlabel('Condition', fontsize=12)\n",
    "plt.ylabel('Correlation', fontsize=12)\n",
    "sns.despine(top=True, right=True)\n",
    "\n",
    "plt.savefig(os.path.join(figdir, 'temporal_autocorrelations_inset.pdf'), bbox_inches='tight')"
   ]
  },
  {
   "cell_type": "code",
   "execution_count": 10,
   "metadata": {},
   "outputs": [],
   "source": [
    "def compare_conds(x, conds, metric):\n",
    "    for i, c1 in enumerate(conds):\n",
    "        c1_data = x.query(f'Condition == \"{c1}\"')[metric]\n",
    "        for c2 in conds[i + 1:]:\n",
    "            c2_data = x.query(f'Condition == \"{c2}\"')[metric]\n",
    "            results = ttest_ind(c1_data, c2_data, nan_policy='omit')\n",
    "            print(f'{c1} vs. {c2}: t({len(c1_data) + len(c2_data) - np.sum(np.isnan(c1_data)) - np.sum(np.isnan(c2_data) - 2)}) = {results.statistic:.2f}, {pstring(results.pvalue)}')\n",
    "            "
   ]
  },
  {
   "cell_type": "code",
   "execution_count": 11,
   "metadata": {},
   "outputs": [
    {
     "name": "stdout",
     "output_type": "stream",
     "text": [
      "intact vs. paragraph: t(60) = -0.45, p = 0.659\n",
      "intact vs. word: t(106) = -2.63, p = 0.013\n",
      "intact vs. rest: t(106) = -0.07, p = 0.944\n",
      "paragraph vs. word: t(94) = -1.34, p = 0.195\n",
      "paragraph vs. rest: t(94) = 0.41, p = 0.686\n",
      "word vs. rest: t(102) = 2.52, p = 0.018\n"
     ]
    }
   ],
   "source": [
    "compare_conds(temporal_autocorrelations.query('Lag == 1'), conditions, 'Temporal autocorrelation')"
   ]
  },
  {
   "cell_type": "markdown",
   "metadata": {},
   "source": [
    "Compute spatial autocorrelation as a function of distance"
   ]
  },
  {
   "cell_type": "code",
   "execution_count": 12,
   "metadata": {},
   "outputs": [],
   "source": [
    "spatial_autocorrelations_fname = os.path.join(scratch_dir, 'spatial_autocorrelations.pkl')\n",
    "\n",
    "if os.path.exists(spatial_autocorrelations_fname):\n",
    "    with open(spatial_autocorrelations_fname, 'rb') as f:\n",
    "        spatial_autocorrelations = pickle.load(f)\n",
    "else:\n",
    "    # Euclidean distance between each pair of HTFA centers\n",
    "    dists = squareform(pdist(data['centers']))\n",
    "    spatial_autocorrelations = []\n",
    "    for condition in data['weights'].keys():\n",
    "        cdata = data['weights'][condition]\n",
    "        for subj in tqdm(range(len(cdata))):\n",
    "            for i in range(cdata[subj].shape[1]):\n",
    "                for j in range(i + 1, cdata[subj].shape[1]):\n",
    "                    with warnings.catch_warnings():\n",
    "                        warnings.simplefilter('ignore')\n",
    "                        spatial_autocorrelations.append(pd.DataFrame.from_records([{\n",
    "                            'Condition': condition,\n",
    "                            'Participant ID': subj,\n",
    "                            'Node 1': i,\n",
    "                            'Node 2': j,\n",
    "                            'Distance': dists[i, j],\n",
    "                            'Spatial autocorrelation': np.corrcoef(cdata[subj].iloc[:, i], cdata[subj].iloc[:, j])[0, 1]\n",
    "                        }]))\n",
    "\n",
    "    spatial_autocorrelations = pd.concat(spatial_autocorrelations, axis=0, ignore_index=True)\n",
    "    with open(spatial_autocorrelations_fname, 'wb') as f:\n",
    "        pickle.dump(spatial_autocorrelations, f)\n",
    "    \n",
    "spatial_autocorrelations['Distance bin'] = pd.cut(spatial_autocorrelations['Distance'], bins=100)\n",
    "spatial_autocorrelations['Bin midpoint'] = spatial_autocorrelations['Distance bin'].apply(lambda x: x.mid)\n",
    "\n",
    "# use groupby so that error ribbons are computed across participants\n",
    "with warnings.catch_warnings():\n",
    "    warnings.simplefilter('ignore')\n",
    "    spatial_autocorrelations = spatial_autocorrelations.groupby(['Condition', 'Participant ID', 'Bin midpoint']).mean().reset_index().drop(columns=['Node 1', 'Node 2', 'Bin midpoint'])"
   ]
  },
  {
   "cell_type": "code",
   "execution_count": 13,
   "metadata": {},
   "outputs": [
    {
     "data": {
      "text/html": [
       "<div>\n",
       "<style scoped>\n",
       "    .dataframe tbody tr th:only-of-type {\n",
       "        vertical-align: middle;\n",
       "    }\n",
       "\n",
       "    .dataframe tbody tr th {\n",
       "        vertical-align: top;\n",
       "    }\n",
       "\n",
       "    .dataframe thead th {\n",
       "        text-align: right;\n",
       "    }\n",
       "</style>\n",
       "<table border=\"1\" class=\"dataframe\">\n",
       "  <thead>\n",
       "    <tr style=\"text-align: right;\">\n",
       "      <th></th>\n",
       "      <th>Condition</th>\n",
       "      <th>Participant ID</th>\n",
       "      <th>Distance</th>\n",
       "      <th>Spatial autocorrelation</th>\n",
       "    </tr>\n",
       "  </thead>\n",
       "  <tbody>\n",
       "    <tr>\n",
       "      <th>0</th>\n",
       "      <td>intact</td>\n",
       "      <td>0</td>\n",
       "      <td>3.805810</td>\n",
       "      <td>0.077221</td>\n",
       "    </tr>\n",
       "    <tr>\n",
       "      <th>1</th>\n",
       "      <td>intact</td>\n",
       "      <td>0</td>\n",
       "      <td>5.839426</td>\n",
       "      <td>0.089366</td>\n",
       "    </tr>\n",
       "    <tr>\n",
       "      <th>2</th>\n",
       "      <td>intact</td>\n",
       "      <td>0</td>\n",
       "      <td>7.438476</td>\n",
       "      <td>0.103628</td>\n",
       "    </tr>\n",
       "    <tr>\n",
       "      <th>3</th>\n",
       "      <td>intact</td>\n",
       "      <td>0</td>\n",
       "      <td>9.005955</td>\n",
       "      <td>0.204890</td>\n",
       "    </tr>\n",
       "    <tr>\n",
       "      <th>4</th>\n",
       "      <td>intact</td>\n",
       "      <td>0</td>\n",
       "      <td>10.557228</td>\n",
       "      <td>0.267297</td>\n",
       "    </tr>\n",
       "    <tr>\n",
       "      <th>...</th>\n",
       "      <td>...</td>\n",
       "      <td>...</td>\n",
       "      <td>...</td>\n",
       "      <td>...</td>\n",
       "    </tr>\n",
       "    <tr>\n",
       "      <th>14395</th>\n",
       "      <td>word</td>\n",
       "      <td>35</td>\n",
       "      <td>159.813524</td>\n",
       "      <td>0.098226</td>\n",
       "    </tr>\n",
       "    <tr>\n",
       "      <th>14396</th>\n",
       "      <td>word</td>\n",
       "      <td>35</td>\n",
       "      <td>161.360423</td>\n",
       "      <td>0.104180</td>\n",
       "    </tr>\n",
       "    <tr>\n",
       "      <th>14397</th>\n",
       "      <td>word</td>\n",
       "      <td>35</td>\n",
       "      <td>162.914496</td>\n",
       "      <td>0.156676</td>\n",
       "    </tr>\n",
       "    <tr>\n",
       "      <th>14398</th>\n",
       "      <td>word</td>\n",
       "      <td>35</td>\n",
       "      <td>164.719152</td>\n",
       "      <td>0.087538</td>\n",
       "    </tr>\n",
       "    <tr>\n",
       "      <th>14399</th>\n",
       "      <td>word</td>\n",
       "      <td>35</td>\n",
       "      <td>166.289920</td>\n",
       "      <td>0.048132</td>\n",
       "    </tr>\n",
       "  </tbody>\n",
       "</table>\n",
       "<p>14400 rows × 4 columns</p>\n",
       "</div>"
      ],
      "text/plain": [
       "      Condition  Participant ID    Distance  Spatial autocorrelation\n",
       "0        intact               0    3.805810                 0.077221\n",
       "1        intact               0    5.839426                 0.089366\n",
       "2        intact               0    7.438476                 0.103628\n",
       "3        intact               0    9.005955                 0.204890\n",
       "4        intact               0   10.557228                 0.267297\n",
       "...         ...             ...         ...                      ...\n",
       "14395      word              35  159.813524                 0.098226\n",
       "14396      word              35  161.360423                 0.104180\n",
       "14397      word              35  162.914496                 0.156676\n",
       "14398      word              35  164.719152                 0.087538\n",
       "14399      word              35  166.289920                 0.048132\n",
       "\n",
       "[14400 rows x 4 columns]"
      ]
     },
     "execution_count": 13,
     "metadata": {},
     "output_type": "execute_result"
    }
   ],
   "source": [
    "spatial_autocorrelations"
   ]
  },
  {
   "cell_type": "code",
   "execution_count": 14,
   "metadata": {},
   "outputs": [
    {
     "data": {
      "image/png": "[encoded data removed]",
      "text/plain": [
       "<Figure size 432x288 with 1 Axes>"
      ]
     },
     "metadata": {
      "needs_background": "light"
     },
     "output_type": "display_data"
    }
   ],
   "source": [
    "sns.lineplot(spatial_autocorrelations, x='Distance', y='Spatial autocorrelation', hue='Condition', palette=condition_colors, legend=False)\n",
    "ylim = plt.gca().get_ylim()\n",
    "plt.plot([spatial_autocorrelations['Distance'].min(), spatial_autocorrelations['Distance'].min()], ylim, '-', color='darkgray', lw=2)\n",
    "plt.ylim(ylim)\n",
    "\n",
    "\n",
    "plt.xlabel('Distance in MNI space (mm)', fontsize=14)\n",
    "plt.ylabel('Spatial autocorrelation', fontsize=14)\n",
    "sns.despine(top=True, right=True)\n",
    "\n",
    "plt.savefig(os.path.join(figdir, 'spatial_autocorrelations.pdf'), bbox_inches='tight')"
   ]
  },
  {
   "cell_type": "markdown",
   "metadata": {},
   "source": [
    "Spatial autocorrelation inset"
   ]
  },
  {
   "cell_type": "code",
   "execution_count": 15,
   "metadata": {},
   "outputs": [
    {
     "data": {
      "image/png": "[encoded data removed]",
      "text/plain": [
       "<Figure size 72x72 with 1 Axes>"
      ]
     },
     "metadata": {
      "needs_background": "light"
     },
     "output_type": "display_data"
    }
   ],
   "source": [
    "plt.figure(figsize=(1, 1))\n",
    "threshold = spatial_autocorrelations['Distance'].quantile(q=0.01, interpolation='linear')\n",
    "sns.barplot(spatial_autocorrelations.query('Distance < @threshold'), x='Condition', y='Spatial autocorrelation', palette=condition_colors, order=conditions)\n",
    "plt.gca().set_xticklabels(['' for _ in plt.gca().get_xticklabels()])\n",
    "\n",
    "plt.ylim([0, plt.gca().get_ylim()[1]])\n",
    "plt.xlabel('Condition', fontsize=12)\n",
    "plt.ylabel('Correlation', fontsize=12)\n",
    "sns.despine(top=True, right=True)\n",
    "\n",
    "plt.savefig(os.path.join(figdir, 'spatial_autocorrelations_inset.pdf'), bbox_inches='tight')"
   ]
  },
  {
   "cell_type": "code",
   "execution_count": 16,
   "metadata": {},
   "outputs": [
    {
     "name": "stdout",
     "output_type": "stream",
     "text": [
      "intact vs. paragraph: t(87) = -0.58, p = 0.562\n",
      "intact vs. word: t(144) = -0.68, p = 0.500\n",
      "intact vs. rest: t(144) = 1.03, p = 0.308\n",
      "paragraph vs. word: t(125) = -0.03, p = 0.978\n",
      "paragraph vs. rest: t(125) = 1.46, p = 0.152\n",
      "word vs. rest: t(144) = 1.58, p = 0.118\n"
     ]
    }
   ],
   "source": [
    "compare_conds(spatial_autocorrelations.query('Distance < @threshold'), conditions, 'Spatial autocorrelation')"
   ]
  }
 ],
 "metadata": {
  "kernelspec": {
   "display_name": "pca-paper",
   "language": "python",
   "name": "python3"
  },
  "language_info": {
   "codemirror_mode": {
    "name": "ipython",
    "version": 3
   },
   "file_extension": ".py",
   "mimetype": "text/x-python",
   "name": "python",
   "nbconvert_exporter": "python",
   "pygments_lexer": "ipython3",
   "version": "3.10.9"
  }
 },
 "nbformat": 4,
 "nbformat_minor": 2
}
